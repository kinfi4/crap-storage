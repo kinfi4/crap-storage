{
 "cells": [
  {
   "cell_type": "code",
   "execution_count": 1,
   "id": "ddea5dd5",
   "metadata": {},
   "outputs": [],
   "source": [
    "import pandas as pd\n",
    "\n",
    "pd.set_option('precision', 2)"
   ]
  },
  {
   "cell_type": "code",
   "execution_count": 31,
   "id": "871b5c84",
   "metadata": {},
   "outputs": [],
   "source": [
    "df = pd.read_csv('data/Data2.csv', delimiter=';')"
   ]
  },
  {
   "cell_type": "code",
   "execution_count": 32,
   "id": "fa7289ee",
   "metadata": {},
   "outputs": [
    {
     "data": {
      "text/html": [
       "<div>\n",
       "<style scoped>\n",
       "    .dataframe tbody tr th:only-of-type {\n",
       "        vertical-align: middle;\n",
       "    }\n",
       "\n",
       "    .dataframe tbody tr th {\n",
       "        vertical-align: top;\n",
       "    }\n",
       "\n",
       "    .dataframe thead th {\n",
       "        text-align: right;\n",
       "    }\n",
       "</style>\n",
       "<table border=\"1\" class=\"dataframe\">\n",
       "  <thead>\n",
       "    <tr style=\"text-align: right;\">\n",
       "      <th></th>\n",
       "      <th>Country Name</th>\n",
       "      <th>Region</th>\n",
       "      <th>GDP per capita</th>\n",
       "      <th>Populatiion</th>\n",
       "      <th>CO2 emission</th>\n",
       "      <th>Area</th>\n",
       "    </tr>\n",
       "  </thead>\n",
       "  <tbody>\n",
       "    <tr>\n",
       "      <th>0</th>\n",
       "      <td>Afghanistan</td>\n",
       "      <td>South Asia</td>\n",
       "      <td>561,7787463</td>\n",
       "      <td>3.47e+07</td>\n",
       "      <td>9809,225</td>\n",
       "      <td>652860</td>\n",
       "    </tr>\n",
       "    <tr>\n",
       "      <th>1</th>\n",
       "      <td>Albania</td>\n",
       "      <td>Europe &amp; Central Asia</td>\n",
       "      <td>4124,98239</td>\n",
       "      <td>2.88e+06</td>\n",
       "      <td>5716,853</td>\n",
       "      <td>28750</td>\n",
       "    </tr>\n",
       "    <tr>\n",
       "      <th>2</th>\n",
       "      <td>Algeria</td>\n",
       "      <td>Middle East &amp; North Africa</td>\n",
       "      <td>3916,881571</td>\n",
       "      <td>4.06e+07</td>\n",
       "      <td>145400,217</td>\n",
       "      <td>2381740</td>\n",
       "    </tr>\n",
       "    <tr>\n",
       "      <th>3</th>\n",
       "      <td>American Samoa</td>\n",
       "      <td>East Asia &amp; Pacific</td>\n",
       "      <td>11834,74523</td>\n",
       "      <td>5.56e+04</td>\n",
       "      <td>NaN</td>\n",
       "      <td>200</td>\n",
       "    </tr>\n",
       "    <tr>\n",
       "      <th>4</th>\n",
       "      <td>Andorra</td>\n",
       "      <td>Europe &amp; Central Asia</td>\n",
       "      <td>36988,62203</td>\n",
       "      <td>7.73e+04</td>\n",
       "      <td>462,042</td>\n",
       "      <td>470</td>\n",
       "    </tr>\n",
       "  </tbody>\n",
       "</table>\n",
       "</div>"
      ],
      "text/plain": [
       "     Country Name                      Region GDP per capita  Populatiion  \\\n",
       "0     Afghanistan                  South Asia    561,7787463     3.47e+07   \n",
       "1         Albania       Europe & Central Asia     4124,98239     2.88e+06   \n",
       "2         Algeria  Middle East & North Africa    3916,881571     4.06e+07   \n",
       "3  American Samoa         East Asia & Pacific    11834,74523     5.56e+04   \n",
       "4         Andorra       Europe & Central Asia    36988,62203     7.73e+04   \n",
       "\n",
       "  CO2 emission     Area  \n",
       "0     9809,225   652860  \n",
       "1     5716,853    28750  \n",
       "2   145400,217  2381740  \n",
       "3          NaN      200  \n",
       "4      462,042      470  "
      ]
     },
     "execution_count": 32,
     "metadata": {},
     "output_type": "execute_result"
    }
   ],
   "source": [
    "df.head()"
   ]
  },
  {
   "cell_type": "code",
   "execution_count": 33,
   "id": "7d17b430",
   "metadata": {},
   "outputs": [],
   "source": [
    "df = df.rename(columns={\n",
    "    'GDP per capita': 'gdp',\n",
    "    'CO2 emission': 'co2',\n",
    "    'Populatiion': 'population'\n",
    "})"
   ]
  },
  {
   "cell_type": "code",
   "execution_count": 34,
   "id": "34b48e93",
   "metadata": {},
   "outputs": [],
   "source": [
    "df['gdp'] = df['gdp'].str.replace(',', '.').astype(float)\n",
    "df['co2'] = df['co2'].str.replace(',', '.').astype(float)\n",
    "df['Area'] = df['Area'].str.replace(',', '.').astype(float)"
   ]
  },
  {
   "cell_type": "code",
   "execution_count": 35,
   "id": "23ee8334",
   "metadata": {},
   "outputs": [
    {
     "data": {
      "text/html": [
       "<div>\n",
       "<style scoped>\n",
       "    .dataframe tbody tr th:only-of-type {\n",
       "        vertical-align: middle;\n",
       "    }\n",
       "\n",
       "    .dataframe tbody tr th {\n",
       "        vertical-align: top;\n",
       "    }\n",
       "\n",
       "    .dataframe thead th {\n",
       "        text-align: right;\n",
       "    }\n",
       "</style>\n",
       "<table border=\"1\" class=\"dataframe\">\n",
       "  <thead>\n",
       "    <tr style=\"text-align: right;\">\n",
       "      <th></th>\n",
       "      <th>gdp</th>\n",
       "      <th>population</th>\n",
       "      <th>co2</th>\n",
       "      <th>Area</th>\n",
       "    </tr>\n",
       "  </thead>\n",
       "  <tbody>\n",
       "    <tr>\n",
       "      <th>count</th>\n",
       "      <td>190.00</td>\n",
       "      <td>2.16e+02</td>\n",
       "      <td>2.05e+02</td>\n",
       "      <td>2.17e+02</td>\n",
       "    </tr>\n",
       "    <tr>\n",
       "      <th>mean</th>\n",
       "      <td>13374.83</td>\n",
       "      <td>3.43e+07</td>\n",
       "      <td>1.65e+05</td>\n",
       "      <td>6.13e+05</td>\n",
       "    </tr>\n",
       "    <tr>\n",
       "      <th>std</th>\n",
       "      <td>18091.79</td>\n",
       "      <td>1.35e+08</td>\n",
       "      <td>8.34e+05</td>\n",
       "      <td>1.83e+06</td>\n",
       "    </tr>\n",
       "    <tr>\n",
       "      <th>min</th>\n",
       "      <td>-6722.22</td>\n",
       "      <td>1.11e+04</td>\n",
       "      <td>1.10e+01</td>\n",
       "      <td>-6.77e+05</td>\n",
       "    </tr>\n",
       "    <tr>\n",
       "      <th>25%</th>\n",
       "      <td>1926.54</td>\n",
       "      <td>7.90e+05</td>\n",
       "      <td>1.33e+03</td>\n",
       "      <td>1.04e+04</td>\n",
       "    </tr>\n",
       "    <tr>\n",
       "      <th>50%</th>\n",
       "      <td>5226.29</td>\n",
       "      <td>6.22e+06</td>\n",
       "      <td>9.11e+03</td>\n",
       "      <td>9.22e+04</td>\n",
       "    </tr>\n",
       "    <tr>\n",
       "      <th>75%</th>\n",
       "      <td>16003.30</td>\n",
       "      <td>2.35e+07</td>\n",
       "      <td>5.99e+04</td>\n",
       "      <td>4.47e+05</td>\n",
       "    </tr>\n",
       "    <tr>\n",
       "      <th>max</th>\n",
       "      <td>100738.68</td>\n",
       "      <td>1.38e+09</td>\n",
       "      <td>1.03e+07</td>\n",
       "      <td>1.71e+07</td>\n",
       "    </tr>\n",
       "  </tbody>\n",
       "</table>\n",
       "</div>"
      ],
      "text/plain": [
       "             gdp  population       co2      Area\n",
       "count     190.00    2.16e+02  2.05e+02  2.17e+02\n",
       "mean    13374.83    3.43e+07  1.65e+05  6.13e+05\n",
       "std     18091.79    1.35e+08  8.34e+05  1.83e+06\n",
       "min     -6722.22    1.11e+04  1.10e+01 -6.77e+05\n",
       "25%      1926.54    7.90e+05  1.33e+03  1.04e+04\n",
       "50%      5226.29    6.22e+06  9.11e+03  9.22e+04\n",
       "75%     16003.30    2.35e+07  5.99e+04  4.47e+05\n",
       "max    100738.68    1.38e+09  1.03e+07  1.71e+07"
      ]
     },
     "execution_count": 35,
     "metadata": {},
     "output_type": "execute_result"
    }
   ],
   "source": [
    "df.describe()"
   ]
  },
  {
   "cell_type": "code",
   "execution_count": 36,
   "id": "e80948a9",
   "metadata": {},
   "outputs": [
    {
     "data": {
      "text/plain": [
       "<AxesSubplot:>"
      ]
     },
     "execution_count": 36,
     "metadata": {},
     "output_type": "execute_result"
    },
    {
     "data": {
      "image/png": "[encoded data removed]",
      "text/plain": [
       "<Figure size 432x288 with 1 Axes>"
      ]
     },
     "metadata": {
      "needs_background": "light"
     },
     "output_type": "display_data"
    }
   ],
   "source": [
    "df['gdp'].hist(bins=30)"
   ]
  },
  {
   "cell_type": "code",
   "execution_count": 37,
   "id": "c9612f54",
   "metadata": {},
   "outputs": [
    {
     "data": {
      "text/plain": [
       "<AxesSubplot:>"
      ]
     },
     "execution_count": 37,
     "metadata": {},
     "output_type": "execute_result"
    },
    {
     "data": {
      "image/png": "[encoded data removed]",
      "text/plain": [
       "<Figure size 432x288 with 1 Axes>"
      ]
     },
     "metadata": {
      "needs_background": "light"
     },
     "output_type": "display_data"
    }
   ],
   "source": [
    "df['Area'].hist(bins=30)"
   ]
  },
  {
   "cell_type": "code",
   "execution_count": 38,
   "id": "d7986315",
   "metadata": {},
   "outputs": [
    {
     "data": {
      "text/plain": [
       "<AxesSubplot:>"
      ]
     },
     "execution_count": 38,
     "metadata": {},
     "output_type": "execute_result"
    },
    {
     "data": {
      "image/png": "[encoded data removed]",
      "text/plain": [
       "<Figure size 432x288 with 1 Axes>"
      ]
     },
     "metadata": {
      "needs_background": "light"
     },
     "output_type": "display_data"
    }
   ],
   "source": [
    "df['population'].hist(bins=30)"
   ]
  },
  {
   "cell_type": "code",
   "execution_count": 39,
   "id": "3ddcf434",
   "metadata": {},
   "outputs": [
    {
     "data": {
      "text/plain": [
       "<AxesSubplot:>"
      ]
     },
     "execution_count": 39,
     "metadata": {},
     "output_type": "execute_result"
    },
    {
     "data": {
      "image/png": "[encoded data removed]",
      "text/plain": [
       "<Figure size 432x288 with 1 Axes>"
      ]
     },
     "metadata": {
      "needs_background": "light"
     },
     "output_type": "display_data"
    }
   ],
   "source": [
    "df['co2'].hist(bins=30)"
   ]
  }
 ],
 "metadata": {
  "kernelspec": {
   "display_name": "Python 3",
   "language": "python",
   "name": "python3"
  },
  "language_info": {
   "codemirror_mode": {
    "name": "ipython",
    "version": 3
   },
   "file_extension": ".py",
   "mimetype": "text/x-python",
   "name": "python",
   "nbconvert_exporter": "python",
   "pygments_lexer": "ipython3",
   "version": "3.8.8"
  }
 },
 "nbformat": 4,
 "nbformat_minor": 5
}
