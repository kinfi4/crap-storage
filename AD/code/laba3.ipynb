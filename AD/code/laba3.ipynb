{
 "cells": [
  {
   "cell_type": "code",
   "execution_count": 127,
   "id": "6ac809c8",
   "metadata": {},
   "outputs": [],
   "source": [
    "import pandas as pd\n",
    "\n",
    "pd.set_option('precision', 2)"
   ]
  },
  {
   "cell_type": "code",
   "execution_count": 128,
   "id": "acf1e899",
   "metadata": {},
   "outputs": [],
   "source": [
    "df = pd.read_csv('data/Data2.csv', delimiter=';')"
   ]
  },
  {
   "cell_type": "code",
   "execution_count": 129,
   "id": "82c99c8d",
   "metadata": {},
   "outputs": [
    {
     "data": {
      "text/plain": "     Country Name                      Region GDP per capita  Populatiion  \\\n0     Afghanistan                  South Asia    561,7787463     3.47e+07   \n1         Albania       Europe & Central Asia     4124,98239     2.88e+06   \n2         Algeria  Middle East & North Africa    3916,881571     4.06e+07   \n3  American Samoa         East Asia & Pacific    11834,74523     5.56e+04   \n4         Andorra       Europe & Central Asia    36988,62203     7.73e+04   \n\n  CO2 emission     Area  \n0     9809,225   652860  \n1     5716,853    28750  \n2   145400,217  2381740  \n3          NaN      200  \n4      462,042      470  ",
      "text/html": "<div>\n<style scoped>\n    .dataframe tbody tr th:only-of-type {\n        vertical-align: middle;\n    }\n\n    .dataframe tbody tr th {\n        vertical-align: top;\n    }\n\n    .dataframe thead th {\n        text-align: right;\n    }\n</style>\n<table border=\"1\" class=\"dataframe\">\n  <thead>\n    <tr style=\"text-align: right;\">\n      <th></th>\n      <th>Country Name</th>\n      <th>Region</th>\n      <th>GDP per capita</th>\n      <th>Populatiion</th>\n      <th>CO2 emission</th>\n      <th>Area</th>\n    </tr>\n  </thead>\n  <tbody>\n    <tr>\n      <th>0</th>\n      <td>Afghanistan</td>\n      <td>South Asia</td>\n      <td>561,7787463</td>\n      <td>3.47e+07</td>\n      <td>9809,225</td>\n      <td>652860</td>\n    </tr>\n    <tr>\n      <th>1</th>\n      <td>Albania</td>\n      <td>Europe &amp; Central Asia</td>\n      <td>4124,98239</td>\n      <td>2.88e+06</td>\n      <td>5716,853</td>\n      <td>28750</td>\n    </tr>\n    <tr>\n      <th>2</th>\n      <td>Algeria</td>\n      <td>Middle East &amp; North Africa</td>\n      <td>3916,881571</td>\n      <td>4.06e+07</td>\n      <td>145400,217</td>\n      <td>2381740</td>\n    </tr>\n    <tr>\n      <th>3</th>\n      <td>American Samoa</td>\n      <td>East Asia &amp; Pacific</td>\n      <td>11834,74523</td>\n      <td>5.56e+04</td>\n      <td>NaN</td>\n      <td>200</td>\n    </tr>\n    <tr>\n      <th>4</th>\n      <td>Andorra</td>\n      <td>Europe &amp; Central Asia</td>\n      <td>36988,62203</td>\n      <td>7.73e+04</td>\n      <td>462,042</td>\n      <td>470</td>\n    </tr>\n  </tbody>\n</table>\n</div>"
     },
     "execution_count": 129,
     "metadata": {},
     "output_type": "execute_result"
    }
   ],
   "source": [
    "df.head(5)"
   ]
  },
  {
   "cell_type": "markdown",
   "id": "4b5a841d",
   "metadata": {},
   "source": [
    "# Preprocess structure of data"
   ]
  },
  {
   "cell_type": "code",
   "execution_count": 130,
   "id": "ab66cf68",
   "metadata": {},
   "outputs": [
    {
     "data": {
      "text/plain": "Country Name       object\nRegion             object\nGDP per capita     object\nPopulatiion       float64\nCO2 emission       object\nArea               object\ndtype: object"
     },
     "execution_count": 130,
     "metadata": {},
     "output_type": "execute_result"
    }
   ],
   "source": [
    "df.dtypes"
   ]
  },
  {
   "cell_type": "code",
   "execution_count": 131,
   "id": "9c771abb",
   "metadata": {},
   "outputs": [
    {
     "data": {
      "text/plain": "Index(['Country', 'Region', 'gdp', 'Population', 'co2', 'Area'], dtype='object')"
     },
     "execution_count": 131,
     "metadata": {},
     "output_type": "execute_result"
    }
   ],
   "source": [
    "df = df.rename(\n",
    "    columns={\n",
    "        'Country Name': 'Country',\n",
    "        'GDP per capita': 'gdp',\n",
    "        'CO2 emission': 'co2',\n",
    "        'Populatiion': 'Population'\n",
    "    }\n",
    ")\n",
    "\n",
    "df.columns"
   ]
  },
  {
   "cell_type": "code",
   "execution_count": 132,
   "id": "82137513",
   "metadata": {},
   "outputs": [],
   "source": [
    "df['gdp'] = df['gdp'].str.replace(',', '.').astype(float)\n",
    "df['co2'] = df['co2'].str.replace(',', '.').astype(float)\n",
    "df['Area'] = df['Area'].str.replace(',', '.').astype(float)"
   ]
  },
  {
   "cell_type": "markdown",
   "id": "9fb740c0",
   "metadata": {},
   "source": [
    "# Cleaning"
   ]
  },
  {
   "cell_type": "code",
   "execution_count": 133,
   "id": "1134df6d",
   "metadata": {},
   "outputs": [
    {
     "data": {
      "text/plain": "(217, 217)"
     },
     "execution_count": 133,
     "metadata": {},
     "output_type": "execute_result"
    }
   ],
   "source": [
    "df.shape[0], len(df['Country'].unique())"
   ]
  },
  {
   "cell_type": "code",
   "execution_count": 134,
   "id": "4bd38395",
   "metadata": {},
   "outputs": [
    {
     "data": {
      "text/plain": "Europe & Central Asia         58\nSub-Saharan Africa            48\nLatin America & Caribbean     42\nEast Asia & Pacific           37\nMiddle East & North Africa    21\nSouth Asia                     8\nNorth America                  3\nName: Region, dtype: int64"
     },
     "execution_count": 134,
     "metadata": {},
     "output_type": "execute_result"
    }
   ],
   "source": [
    "df['Region'].value_counts()"
   ]
  },
  {
   "cell_type": "code",
   "execution_count": 135,
   "id": "ee3862d0",
   "metadata": {},
   "outputs": [
    {
     "data": {
      "text/plain": "             gdp  Population       co2      Area\ncount     190.00    2.16e+02  2.05e+02  2.17e+02\nmean    13374.83    3.43e+07  1.65e+05  6.13e+05\nstd     18091.79    1.35e+08  8.34e+05  1.83e+06\nmin     -6722.22    1.11e+04  1.10e+01 -6.77e+05\n25%      1926.54    7.90e+05  1.33e+03  1.04e+04\n50%      5226.29    6.22e+06  9.11e+03  9.22e+04\n75%     16003.30    2.35e+07  5.99e+04  4.47e+05\nmax    100738.68    1.38e+09  1.03e+07  1.71e+07",
      "text/html": "<div>\n<style scoped>\n    .dataframe tbody tr th:only-of-type {\n        vertical-align: middle;\n    }\n\n    .dataframe tbody tr th {\n        vertical-align: top;\n    }\n\n    .dataframe thead th {\n        text-align: right;\n    }\n</style>\n<table border=\"1\" class=\"dataframe\">\n  <thead>\n    <tr style=\"text-align: right;\">\n      <th></th>\n      <th>gdp</th>\n      <th>Population</th>\n      <th>co2</th>\n      <th>Area</th>\n    </tr>\n  </thead>\n  <tbody>\n    <tr>\n      <th>count</th>\n      <td>190.00</td>\n      <td>2.16e+02</td>\n      <td>2.05e+02</td>\n      <td>2.17e+02</td>\n    </tr>\n    <tr>\n      <th>mean</th>\n      <td>13374.83</td>\n      <td>3.43e+07</td>\n      <td>1.65e+05</td>\n      <td>6.13e+05</td>\n    </tr>\n    <tr>\n      <th>std</th>\n      <td>18091.79</td>\n      <td>1.35e+08</td>\n      <td>8.34e+05</td>\n      <td>1.83e+06</td>\n    </tr>\n    <tr>\n      <th>min</th>\n      <td>-6722.22</td>\n      <td>1.11e+04</td>\n      <td>1.10e+01</td>\n      <td>-6.77e+05</td>\n    </tr>\n    <tr>\n      <th>25%</th>\n      <td>1926.54</td>\n      <td>7.90e+05</td>\n      <td>1.33e+03</td>\n      <td>1.04e+04</td>\n    </tr>\n    <tr>\n      <th>50%</th>\n      <td>5226.29</td>\n      <td>6.22e+06</td>\n      <td>9.11e+03</td>\n      <td>9.22e+04</td>\n    </tr>\n    <tr>\n      <th>75%</th>\n      <td>16003.30</td>\n      <td>2.35e+07</td>\n      <td>5.99e+04</td>\n      <td>4.47e+05</td>\n    </tr>\n    <tr>\n      <th>max</th>\n      <td>100738.68</td>\n      <td>1.38e+09</td>\n      <td>1.03e+07</td>\n      <td>1.71e+07</td>\n    </tr>\n  </tbody>\n</table>\n</div>"
     },
     "execution_count": 135,
     "metadata": {},
     "output_type": "execute_result"
    }
   ],
   "source": [
    "df.describe()"
   ]
  },
  {
   "cell_type": "code",
   "execution_count": 136,
   "id": "96db596c",
   "metadata": {},
   "outputs": [],
   "source": [
    "df['gdp'] = df['gdp'].abs()\n",
    "df['Area'] = df['Area'].abs()"
   ]
  },
  {
   "cell_type": "markdown",
   "id": "e08d3973",
   "metadata": {},
   "source": [
    "# Building plots\n",
    "\n",
    "_Я не очень, понял, должны ли мы изобразить на графиках все колонки, я тут показал просто два примера, чтоб показать что материал знаю._"
   ]
  },
  {
   "cell_type": "code",
   "execution_count": 137,
   "id": "342e4997",
   "metadata": {},
   "outputs": [
    {
     "data": {
      "text/plain": "<Figure size 1080x504 with 1 Axes>",
      "image/png": "[encoded data removed]"
     },
     "metadata": {
      "needs_background": "light"
     },
     "output_type": "display_data"
    }
   ],
   "source": [
    "df.boxplot(column='Area', figsize=(15, 7), fontsize=20, showfliers=False)\n",
    "None"
   ]
  },
  {
   "cell_type": "code",
   "execution_count": 138,
   "outputs": [
    {
     "data": {
      "text/plain": "<Figure size 1080x504 with 1 Axes>",
      "image/png": "[encoded data removed]"
     },
     "metadata": {
      "needs_background": "light"
     },
     "output_type": "display_data"
    }
   ],
   "source": [
    "df.hist(column='Population', bins=50, figsize=(15, 7))\n",
    "None"
   ],
   "metadata": {
    "collapsed": false,
    "pycharm": {
     "name": "#%%\n"
    }
   }
  },
  {
   "cell_type": "markdown",
   "id": "da1b3104",
   "metadata": {},
   "source": [
    "# Adding population density"
   ]
  },
  {
   "cell_type": "code",
   "execution_count": 139,
   "id": "dca2bda5",
   "metadata": {},
   "outputs": [],
   "source": [
    "df['population_density'] = df['Population'] / df['Area']"
   ]
  },
  {
   "cell_type": "code",
   "execution_count": 140,
   "id": "a6334405",
   "metadata": {},
   "outputs": [
    {
     "data": {
      "text/plain": "          Country                      Region       gdp  Population  \\\n0     Afghanistan                  South Asia    561.78    3.47e+07   \n1         Albania       Europe & Central Asia   4124.98    2.88e+06   \n2         Algeria  Middle East & North Africa   3916.88    4.06e+07   \n3  American Samoa         East Asia & Pacific  11834.75    5.56e+04   \n4         Andorra       Europe & Central Asia  36988.62    7.73e+04   \n\n         co2      Area  population_density  \n0    9809.23  6.53e+05               53.08  \n1    5716.85  2.88e+04              100.04  \n2  145400.22  2.38e+06               17.05  \n3        NaN  2.00e+02              278.00  \n4     462.04  4.70e+02              164.43  ",
      "text/html": "<div>\n<style scoped>\n    .dataframe tbody tr th:only-of-type {\n        vertical-align: middle;\n    }\n\n    .dataframe tbody tr th {\n        vertical-align: top;\n    }\n\n    .dataframe thead th {\n        text-align: right;\n    }\n</style>\n<table border=\"1\" class=\"dataframe\">\n  <thead>\n    <tr style=\"text-align: right;\">\n      <th></th>\n      <th>Country</th>\n      <th>Region</th>\n      <th>gdp</th>\n      <th>Population</th>\n      <th>co2</th>\n      <th>Area</th>\n      <th>population_density</th>\n    </tr>\n  </thead>\n  <tbody>\n    <tr>\n      <th>0</th>\n      <td>Afghanistan</td>\n      <td>South Asia</td>\n      <td>561.78</td>\n      <td>3.47e+07</td>\n      <td>9809.23</td>\n      <td>6.53e+05</td>\n      <td>53.08</td>\n    </tr>\n    <tr>\n      <th>1</th>\n      <td>Albania</td>\n      <td>Europe &amp; Central Asia</td>\n      <td>4124.98</td>\n      <td>2.88e+06</td>\n      <td>5716.85</td>\n      <td>2.88e+04</td>\n      <td>100.04</td>\n    </tr>\n    <tr>\n      <th>2</th>\n      <td>Algeria</td>\n      <td>Middle East &amp; North Africa</td>\n      <td>3916.88</td>\n      <td>4.06e+07</td>\n      <td>145400.22</td>\n      <td>2.38e+06</td>\n      <td>17.05</td>\n    </tr>\n    <tr>\n      <th>3</th>\n      <td>American Samoa</td>\n      <td>East Asia &amp; Pacific</td>\n      <td>11834.75</td>\n      <td>5.56e+04</td>\n      <td>NaN</td>\n      <td>2.00e+02</td>\n      <td>278.00</td>\n    </tr>\n    <tr>\n      <th>4</th>\n      <td>Andorra</td>\n      <td>Europe &amp; Central Asia</td>\n      <td>36988.62</td>\n      <td>7.73e+04</td>\n      <td>462.04</td>\n      <td>4.70e+02</td>\n      <td>164.43</td>\n    </tr>\n  </tbody>\n</table>\n</div>"
     },
     "execution_count": 140,
     "metadata": {},
     "output_type": "execute_result"
    }
   ],
   "source": [
    "df.head(5)"
   ]
  },
  {
   "cell_type": "markdown",
   "id": "744a90fe",
   "metadata": {},
   "source": [
    "# Remove NaNs"
   ]
  },
  {
   "cell_type": "code",
   "execution_count": 141,
   "id": "5cfa9dcd",
   "metadata": {},
   "outputs": [
    {
     "data": {
      "text/plain": "Country                0\nRegion                 0\ngdp                   27\nPopulation             1\nco2                   12\nArea                   0\npopulation_density     1\ndtype: int64"
     },
     "execution_count": 141,
     "metadata": {},
     "output_type": "execute_result"
    }
   ],
   "source": [
    "df.isnull().sum()"
   ]
  },
  {
   "cell_type": "code",
   "execution_count": 143,
   "id": "d9365b4b",
   "metadata": {},
   "outputs": [],
   "source": [
    "df = df.fillna(df.mean().to_dict())"
   ]
  },
  {
   "cell_type": "code",
   "execution_count": 144,
   "id": "545efca4",
   "metadata": {},
   "outputs": [
    {
     "data": {
      "text/plain": "Country               0\nRegion                0\ngdp                   0\nPopulation            0\nco2                   0\nArea                  0\npopulation_density    0\ndtype: int64"
     },
     "execution_count": 144,
     "metadata": {},
     "output_type": "execute_result"
    }
   ],
   "source": [
    "df.isnull().sum()"
   ]
  },
  {
   "cell_type": "markdown",
   "id": "e9c4e3a5",
   "metadata": {
    "pycharm": {
     "name": "#%% md\n"
    }
   },
   "source": [
    "# Answer statistical questions"
   ]
  },
  {
   "cell_type": "code",
   "execution_count": 112,
   "outputs": [
    {
     "name": "stdout",
     "output_type": "stream",
     "text": [
      "Country with biggest gdp per capita: San Marino\n",
      "Country with smallest area: Monaco\n"
     ]
    }
   ],
   "source": [
    "# Яка країна має найбільший ВВП на людину (GDP per capita)? Яка має найменшу площу?\n",
    "\n",
    "df['gdp_per_capita'] = df['gdp'] / df['Population']\n",
    "data_of_country_with_max_gdp_per_capita = df[df['gdp_per_capita'] == df['gdp_per_capita'].max()]\n",
    "\n",
    "print(f'Country with biggest gdp per capita: {data_of_country_with_max_gdp_per_capita[\"Country\"].values[0]}')\n",
    "print(f'Country with smallest area: {df[df[\"Area\"] == df[\"Area\"].min()][\"Country\"].values[0]}')"
   ],
   "metadata": {
    "collapsed": false,
    "pycharm": {
     "name": "#%%\n"
    }
   }
  },
  {
   "cell_type": "code",
   "execution_count": 113,
   "outputs": [
    {
     "name": "stdout",
     "output_type": "stream",
     "text": [
      "Region with max mean Area: North America\n"
     ]
    }
   ],
   "source": [
    "# якому регіоні середня площа країни найбільша?\n",
    "\n",
    "print(f\"Region with max mean Area: {df.groupby(['Region']).mean()['Area'].sort_values(ascending=False).reset_index().iloc[0]['Region']}\")"
   ],
   "metadata": {
    "collapsed": false,
    "pycharm": {
     "name": "#%%\n"
    }
   }
  },
  {
   "cell_type": "code",
   "execution_count": 114,
   "outputs": [
    {
     "data": {
      "text/plain": "array(['South Asia', 'Europe & Central Asia',\n       'Middle East & North Africa', 'East Asia & Pacific',\n       'Sub-Saharan Africa', 'Latin America & Caribbean', 'North America'],\n      dtype=object)"
     },
     "execution_count": 114,
     "metadata": {},
     "output_type": "execute_result"
    }
   ],
   "source": [
    "df['Region'].unique()"
   ],
   "metadata": {
    "collapsed": false,
    "pycharm": {
     "name": "#%%\n"
    }
   }
  },
  {
   "cell_type": "code",
   "execution_count": 115,
   "outputs": [
    {
     "name": "stdout",
     "output_type": "stream",
     "text": [
      "Country with biggest population: China\n",
      "Country with biggest population in Europe: Russian Federation\n"
     ]
    }
   ],
   "source": [
    "# З яким населенням найчастіше зустрічаються країни у світі? У Європі?\n",
    "\n",
    "print(f'Country with biggest population: {df[df[\"Population\"] == df[\"Population\"].max()][\"Country\"].values[0]}')\n",
    "print(f'Country with biggest population in Europe: {df[df[\"Region\"].str.contains(\"Europe\")].sort_values(by=\"Population\", ascending=False)[\"Country\"].values[0]}')"
   ],
   "metadata": {
    "collapsed": false,
    "pycharm": {
     "name": "#%%\n"
    }
   }
  },
  {
   "cell_type": "code",
   "execution_count": 145,
   "outputs": [
    {
     "data": {
      "text/plain": "Region\nEast Asia & Pacific           False\nEurope & Central Asia         False\nLatin America & Caribbean     False\nMiddle East & North Africa    False\nNorth America                 False\nSouth Asia                    False\nSub-Saharan Africa            False\nName: gdp, dtype: bool"
     },
     "execution_count": 145,
     "metadata": {},
     "output_type": "execute_result"
    }
   ],
   "source": [
    "# Чи співпадає в якомусь регіоні середнє та медіана ВВП?\n",
    "\n",
    "df.groupby(by='Region').median()['gdp'] == df.groupby(by='Region').mean()['gdp']"
   ],
   "metadata": {
    "collapsed": false,
    "pycharm": {
     "name": "#%%\n"
    }
   }
  },
  {
   "cell_type": "code",
   "execution_count": 117,
   "outputs": [],
   "source": [
    "# Вивести топ 5 країн та 5 останніх країн по ВВП та кількості СО2 на душу населення.\n",
    "\n",
    "# adding co2 per capita column\n",
    "df['co2_per_capita'] = df['co2'] / df['Population']"
   ],
   "metadata": {
    "collapsed": false,
    "pycharm": {
     "name": "#%%\n"
    }
   }
  },
  {
   "cell_type": "code",
   "execution_count": 118,
   "outputs": [
    {
     "data": {
      "text/plain": "              Country                 Region        gdp  Population       co2  \\\n115        Luxembourg  Europe & Central Asia  100738.68    5.83e+05   9658.88   \n188       Switzerland  Europe & Central Asia   79887.52    8.37e+06  35305.88   \n116  Macao SAR, China    East Asia & Pacific   74017.18    6.12e+05   1283.45   \n146            Norway  Europe & Central Asia   70868.12    5.23e+06  47627.00   \n92            Ireland  Europe & Central Asia   64175.44    4.77e+06  34066.43   \n\n         Area  population_density  gdp_per_capita  co2_per_capita  \n115    2590.0              225.09        1.73e-01        1.66e-02  \n188   41290.0              202.76        9.54e-03        4.22e-03  \n116      30.3            20203.53        1.21e-01        2.10e-03  \n146  385178.0               13.59        1.35e-02        9.10e-03  \n92    70280.0               67.92        1.34e-02        7.14e-03  ",
      "text/html": "<div>\n<style scoped>\n    .dataframe tbody tr th:only-of-type {\n        vertical-align: middle;\n    }\n\n    .dataframe tbody tr th {\n        vertical-align: top;\n    }\n\n    .dataframe thead th {\n        text-align: right;\n    }\n</style>\n<table border=\"1\" class=\"dataframe\">\n  <thead>\n    <tr style=\"text-align: right;\">\n      <th></th>\n      <th>Country</th>\n      <th>Region</th>\n      <th>gdp</th>\n      <th>Population</th>\n      <th>co2</th>\n      <th>Area</th>\n      <th>population_density</th>\n      <th>gdp_per_capita</th>\n      <th>co2_per_capita</th>\n    </tr>\n  </thead>\n  <tbody>\n    <tr>\n      <th>115</th>\n      <td>Luxembourg</td>\n      <td>Europe &amp; Central Asia</td>\n      <td>100738.68</td>\n      <td>5.83e+05</td>\n      <td>9658.88</td>\n      <td>2590.0</td>\n      <td>225.09</td>\n      <td>1.73e-01</td>\n      <td>1.66e-02</td>\n    </tr>\n    <tr>\n      <th>188</th>\n      <td>Switzerland</td>\n      <td>Europe &amp; Central Asia</td>\n      <td>79887.52</td>\n      <td>8.37e+06</td>\n      <td>35305.88</td>\n      <td>41290.0</td>\n      <td>202.76</td>\n      <td>9.54e-03</td>\n      <td>4.22e-03</td>\n    </tr>\n    <tr>\n      <th>116</th>\n      <td>Macao SAR, China</td>\n      <td>East Asia &amp; Pacific</td>\n      <td>74017.18</td>\n      <td>6.12e+05</td>\n      <td>1283.45</td>\n      <td>30.3</td>\n      <td>20203.53</td>\n      <td>1.21e-01</td>\n      <td>2.10e-03</td>\n    </tr>\n    <tr>\n      <th>146</th>\n      <td>Norway</td>\n      <td>Europe &amp; Central Asia</td>\n      <td>70868.12</td>\n      <td>5.23e+06</td>\n      <td>47627.00</td>\n      <td>385178.0</td>\n      <td>13.59</td>\n      <td>1.35e-02</td>\n      <td>9.10e-03</td>\n    </tr>\n    <tr>\n      <th>92</th>\n      <td>Ireland</td>\n      <td>Europe &amp; Central Asia</td>\n      <td>64175.44</td>\n      <td>4.77e+06</td>\n      <td>34066.43</td>\n      <td>70280.0</td>\n      <td>67.92</td>\n      <td>1.34e-02</td>\n      <td>7.14e-03</td>\n    </tr>\n  </tbody>\n</table>\n</div>"
     },
     "execution_count": 118,
     "metadata": {},
     "output_type": "execute_result"
    }
   ],
   "source": [
    "# first 5 countries by gdp\n",
    "df.sort_values(by='gdp', ascending=False).head(5)"
   ],
   "metadata": {
    "collapsed": false,
    "pycharm": {
     "name": "#%%\n"
    }
   }
  },
  {
   "cell_type": "code",
   "execution_count": 119,
   "outputs": [
    {
     "data": {
      "text/plain": "                      Country              Region     gdp  Population  \\\n118                Madagascar  Sub-Saharan Africa  401.74    2.49e+07   \n37   Central African Republic  Sub-Saharan Africa  382.21    4.59e+06   \n134                Mozambique  Sub-Saharan Africa  382.07    2.88e+07   \n119                    Malawi  Sub-Saharan Africa  300.31    1.81e+07   \n31                    Burundi  Sub-Saharan Africa  285.73    1.05e+07   \n\n         co2      Area  population_density  gdp_per_capita  co2_per_capita  \n118  3076.61  587295.0               42.39        1.61e-05        1.24e-04  \n37    300.69  622980.0                7.38        8.32e-05        6.54e-05  \n134  8426.77  799380.0               36.06        1.33e-05        2.92e-04  \n119  1276.12  118480.0              152.70        1.66e-05        7.05e-05  \n31    440.04   27830.0              378.16        2.71e-05        4.18e-05  ",
      "text/html": "<div>\n<style scoped>\n    .dataframe tbody tr th:only-of-type {\n        vertical-align: middle;\n    }\n\n    .dataframe tbody tr th {\n        vertical-align: top;\n    }\n\n    .dataframe thead th {\n        text-align: right;\n    }\n</style>\n<table border=\"1\" class=\"dataframe\">\n  <thead>\n    <tr style=\"text-align: right;\">\n      <th></th>\n      <th>Country</th>\n      <th>Region</th>\n      <th>gdp</th>\n      <th>Population</th>\n      <th>co2</th>\n      <th>Area</th>\n      <th>population_density</th>\n      <th>gdp_per_capita</th>\n      <th>co2_per_capita</th>\n    </tr>\n  </thead>\n  <tbody>\n    <tr>\n      <th>118</th>\n      <td>Madagascar</td>\n      <td>Sub-Saharan Africa</td>\n      <td>401.74</td>\n      <td>2.49e+07</td>\n      <td>3076.61</td>\n      <td>587295.0</td>\n      <td>42.39</td>\n      <td>1.61e-05</td>\n      <td>1.24e-04</td>\n    </tr>\n    <tr>\n      <th>37</th>\n      <td>Central African Republic</td>\n      <td>Sub-Saharan Africa</td>\n      <td>382.21</td>\n      <td>4.59e+06</td>\n      <td>300.69</td>\n      <td>622980.0</td>\n      <td>7.38</td>\n      <td>8.32e-05</td>\n      <td>6.54e-05</td>\n    </tr>\n    <tr>\n      <th>134</th>\n      <td>Mozambique</td>\n      <td>Sub-Saharan Africa</td>\n      <td>382.07</td>\n      <td>2.88e+07</td>\n      <td>8426.77</td>\n      <td>799380.0</td>\n      <td>36.06</td>\n      <td>1.33e-05</td>\n      <td>2.92e-04</td>\n    </tr>\n    <tr>\n      <th>119</th>\n      <td>Malawi</td>\n      <td>Sub-Saharan Africa</td>\n      <td>300.31</td>\n      <td>1.81e+07</td>\n      <td>1276.12</td>\n      <td>118480.0</td>\n      <td>152.70</td>\n      <td>1.66e-05</td>\n      <td>7.05e-05</td>\n    </tr>\n    <tr>\n      <th>31</th>\n      <td>Burundi</td>\n      <td>Sub-Saharan Africa</td>\n      <td>285.73</td>\n      <td>1.05e+07</td>\n      <td>440.04</td>\n      <td>27830.0</td>\n      <td>378.16</td>\n      <td>2.71e-05</td>\n      <td>4.18e-05</td>\n    </tr>\n  </tbody>\n</table>\n</div>"
     },
     "execution_count": 119,
     "metadata": {},
     "output_type": "execute_result"
    }
   ],
   "source": [
    "# last 5 countries by gdp\n",
    "df.sort_values(by='gdp', ascending=False).tail(5)"
   ],
   "metadata": {
    "collapsed": false,
    "pycharm": {
     "name": "#%%\n"
    }
   }
  },
  {
   "cell_type": "code",
   "execution_count": 120,
   "outputs": [
    {
     "data": {
      "text/plain": "                      Country                     Region       gdp  \\\n182  St. Martin (French part)  Latin America & Caribbean  13445.59   \n163                San Marino      Europe & Central Asia  47908.56   \n130                    Monaco      Europe & Central Asia  13445.59   \n145  Northern Mariana Islands        East Asia & Pacific  22572.38   \n3              American Samoa        East Asia & Pacific  11834.75   \n\n     Population        co2   Area  population_density  gdp_per_capita  \\\n182     31949.0  165114.12   54.4              587.30            0.42   \n163     33203.0  165114.12   60.0              553.38            1.44   \n130     38499.0  165114.12    2.0            19249.50            0.35   \n145     55023.0  165114.12  460.0              119.62            0.41   \n3       55599.0  165114.12  200.0              278.00            0.21   \n\n     co2_per_capita  \n182            5.17  \n163            4.97  \n130            4.29  \n145            3.00  \n3              2.97  ",
      "text/html": "<div>\n<style scoped>\n    .dataframe tbody tr th:only-of-type {\n        vertical-align: middle;\n    }\n\n    .dataframe tbody tr th {\n        vertical-align: top;\n    }\n\n    .dataframe thead th {\n        text-align: right;\n    }\n</style>\n<table border=\"1\" class=\"dataframe\">\n  <thead>\n    <tr style=\"text-align: right;\">\n      <th></th>\n      <th>Country</th>\n      <th>Region</th>\n      <th>gdp</th>\n      <th>Population</th>\n      <th>co2</th>\n      <th>Area</th>\n      <th>population_density</th>\n      <th>gdp_per_capita</th>\n      <th>co2_per_capita</th>\n    </tr>\n  </thead>\n  <tbody>\n    <tr>\n      <th>182</th>\n      <td>St. Martin (French part)</td>\n      <td>Latin America &amp; Caribbean</td>\n      <td>13445.59</td>\n      <td>31949.0</td>\n      <td>165114.12</td>\n      <td>54.4</td>\n      <td>587.30</td>\n      <td>0.42</td>\n      <td>5.17</td>\n    </tr>\n    <tr>\n      <th>163</th>\n      <td>San Marino</td>\n      <td>Europe &amp; Central Asia</td>\n      <td>47908.56</td>\n      <td>33203.0</td>\n      <td>165114.12</td>\n      <td>60.0</td>\n      <td>553.38</td>\n      <td>1.44</td>\n      <td>4.97</td>\n    </tr>\n    <tr>\n      <th>130</th>\n      <td>Monaco</td>\n      <td>Europe &amp; Central Asia</td>\n      <td>13445.59</td>\n      <td>38499.0</td>\n      <td>165114.12</td>\n      <td>2.0</td>\n      <td>19249.50</td>\n      <td>0.35</td>\n      <td>4.29</td>\n    </tr>\n    <tr>\n      <th>145</th>\n      <td>Northern Mariana Islands</td>\n      <td>East Asia &amp; Pacific</td>\n      <td>22572.38</td>\n      <td>55023.0</td>\n      <td>165114.12</td>\n      <td>460.0</td>\n      <td>119.62</td>\n      <td>0.41</td>\n      <td>3.00</td>\n    </tr>\n    <tr>\n      <th>3</th>\n      <td>American Samoa</td>\n      <td>East Asia &amp; Pacific</td>\n      <td>11834.75</td>\n      <td>55599.0</td>\n      <td>165114.12</td>\n      <td>200.0</td>\n      <td>278.00</td>\n      <td>0.21</td>\n      <td>2.97</td>\n    </tr>\n  </tbody>\n</table>\n</div>"
     },
     "execution_count": 120,
     "metadata": {},
     "output_type": "execute_result"
    }
   ],
   "source": [
    "# first 5 countries by co2 per capita\n",
    "df.sort_values(by='co2_per_capita', ascending=False).head(5)"
   ],
   "metadata": {
    "collapsed": false,
    "pycharm": {
     "name": "#%%\n"
    }
   }
  },
  {
   "cell_type": "code",
   "execution_count": 121,
   "outputs": [
    {
     "data": {
      "text/plain": "              Country              Region       gdp  Population      co2  \\\n44   Congo, Dem. Rep.  Sub-Saharan Africa    405.54    7.87e+07  4671.76   \n38               Chad  Sub-Saharan Africa    664.30    1.45e+07   729.73   \n175           Somalia  Sub-Saharan Africa    434.21    1.43e+07   608.72   \n31            Burundi  Sub-Saharan Africa    285.73    1.05e+07   440.04   \n61            Eritrea  Sub-Saharan Africa  13445.59    3.43e+07   696.73   \n\n         Area  population_density  gdp_per_capita  co2_per_capita  \n44   2.34e+06               33.58        5.15e-06        5.93e-05  \n38   1.28e+06               11.26        4.60e-05        5.05e-05  \n175  6.38e+05               22.45        3.03e-05        4.25e-05  \n31   2.78e+04              378.16        2.71e-05        4.18e-05  \n61   1.18e+05              435.67        3.92e-04        2.03e-05  ",
      "text/html": "<div>\n<style scoped>\n    .dataframe tbody tr th:only-of-type {\n        vertical-align: middle;\n    }\n\n    .dataframe tbody tr th {\n        vertical-align: top;\n    }\n\n    .dataframe thead th {\n        text-align: right;\n    }\n</style>\n<table border=\"1\" class=\"dataframe\">\n  <thead>\n    <tr style=\"text-align: right;\">\n      <th></th>\n      <th>Country</th>\n      <th>Region</th>\n      <th>gdp</th>\n      <th>Population</th>\n      <th>co2</th>\n      <th>Area</th>\n      <th>population_density</th>\n      <th>gdp_per_capita</th>\n      <th>co2_per_capita</th>\n    </tr>\n  </thead>\n  <tbody>\n    <tr>\n      <th>44</th>\n      <td>Congo, Dem. Rep.</td>\n      <td>Sub-Saharan Africa</td>\n      <td>405.54</td>\n      <td>7.87e+07</td>\n      <td>4671.76</td>\n      <td>2.34e+06</td>\n      <td>33.58</td>\n      <td>5.15e-06</td>\n      <td>5.93e-05</td>\n    </tr>\n    <tr>\n      <th>38</th>\n      <td>Chad</td>\n      <td>Sub-Saharan Africa</td>\n      <td>664.30</td>\n      <td>1.45e+07</td>\n      <td>729.73</td>\n      <td>1.28e+06</td>\n      <td>11.26</td>\n      <td>4.60e-05</td>\n      <td>5.05e-05</td>\n    </tr>\n    <tr>\n      <th>175</th>\n      <td>Somalia</td>\n      <td>Sub-Saharan Africa</td>\n      <td>434.21</td>\n      <td>1.43e+07</td>\n      <td>608.72</td>\n      <td>6.38e+05</td>\n      <td>22.45</td>\n      <td>3.03e-05</td>\n      <td>4.25e-05</td>\n    </tr>\n    <tr>\n      <th>31</th>\n      <td>Burundi</td>\n      <td>Sub-Saharan Africa</td>\n      <td>285.73</td>\n      <td>1.05e+07</td>\n      <td>440.04</td>\n      <td>2.78e+04</td>\n      <td>378.16</td>\n      <td>2.71e-05</td>\n      <td>4.18e-05</td>\n    </tr>\n    <tr>\n      <th>61</th>\n      <td>Eritrea</td>\n      <td>Sub-Saharan Africa</td>\n      <td>13445.59</td>\n      <td>3.43e+07</td>\n      <td>696.73</td>\n      <td>1.18e+05</td>\n      <td>435.67</td>\n      <td>3.92e-04</td>\n      <td>2.03e-05</td>\n    </tr>\n  </tbody>\n</table>\n</div>"
     },
     "execution_count": 121,
     "metadata": {},
     "output_type": "execute_result"
    }
   ],
   "source": [
    "# last 5 countries by co2 per capita\n",
    "df.sort_values(by='co2_per_capita', ascending=False).tail(5)"
   ],
   "metadata": {
    "collapsed": false,
    "pycharm": {
     "name": "#%%\n"
    }
   }
  }
 ],
 "metadata": {
  "kernelspec": {
   "display_name": "Python 3",
   "language": "python",
   "name": "python3"
  },
  "language_info": {
   "codemirror_mode": {
    "name": "ipython",
    "version": 3
   },
   "file_extension": ".py",
   "mimetype": "text/x-python",
   "name": "python",
   "nbconvert_exporter": "python",
   "pygments_lexer": "ipython3",
   "version": "3.8.8"
  }
 },
 "nbformat": 4,
 "nbformat_minor": 5
}