{
 "cells": [
  {
   "cell_type": "code",
   "execution_count": 93,
   "id": "1a372c74",
   "metadata": {},
   "outputs": [],
   "source": [
    "import matplotlib.pyplot as plt\n",
    "from sklearn.datasets import load_digits\n",
    "from sklearn.model_selection import train_test_split\n",
    "from sklearn.neighbors import KNeighborsClassifier\n",
    "from sklearn.metrics import confusion_matrix, classification_report\n",
    "from sklearn.svm import SVC\n",
    "from sklearn.naive_bayes import GaussianNB"
   ]
  },
  {
   "cell_type": "code",
   "execution_count": 68,
   "id": "88727ce6",
   "metadata": {},
   "outputs": [],
   "source": [
    "digits = load_digits()"
   ]
  },
  {
   "cell_type": "code",
   "execution_count": 81,
   "id": "e07f64ca",
   "metadata": {},
   "outputs": [
    {
     "data": {
      "image/png": "[encoded data removed]",
      "text/plain": [
       "<Figure size 432x288 with 36 Axes>"
      ]
     },
     "metadata": {},
     "output_type": "display_data"
    }
   ],
   "source": [
    "figure, axes = plt.subplots(nrows=4, ncols=9, figsize=(6, 4))\n",
    "\n",
    "for axes, image, target in zip(axes.ravel(), digits.images, digits.target):\n",
    "    axes.imshow(image, cmap=plt.cm.gray_r)\n",
    "    axes.set_xticks([])\n",
    "    axes.set_yticks([])\n",
    "    axes.set_title(target)\n",
    "\n",
    "plt.tight_layout()"
   ]
  },
  {
   "cell_type": "code",
   "execution_count": 75,
   "id": "004199ae",
   "metadata": {},
   "outputs": [],
   "source": [
    "x_train, x_test, y_train, y_test = train_test_split(\n",
    "    digits.data, digits.target, random_state=11, test_size=0.25\n",
    ")"
   ]
  },
  {
   "cell_type": "code",
   "execution_count": 78,
   "id": "44f7f607",
   "metadata": {},
   "outputs": [],
   "source": [
    "knn = KNeighborsClassifier()\n",
    "knn.fit(x_train, y_train)\n",
    "None"
   ]
  },
  {
   "cell_type": "code",
   "execution_count": 83,
   "id": "f8b995ad",
   "metadata": {},
   "outputs": [
    {
     "name": "stdout",
     "output_type": "stream",
     "text": [
      "actual value: 0, predicted: 0\n",
      "actual value: 4, predicted: 4\n",
      "actual value: 9, predicted: 9\n",
      "actual value: 9, predicted: 9\n",
      "actual value: 3, predicted: 3\n",
      "actual value: 1, predicted: 1\n",
      "actual value: 4, predicted: 4\n",
      "actual value: 1, predicted: 1\n",
      "actual value: 5, predicted: 5\n",
      "actual value: 0, predicted: 0\n",
      "actual value: 4, predicted: 4\n",
      "actual value: 9, predicted: 9\n",
      "actual value: 4, predicted: 4\n",
      "actual value: 1, predicted: 1\n",
      "actual value: 5, predicted: 5\n",
      "actual value: 3, predicted: 3\n",
      "actual value: 3, predicted: 3\n",
      "actual value: 8, predicted: 8\n",
      "actual value: 3, predicted: 5\n",
      "actual value: 6, predicted: 6\n",
      "actual value: 9, predicted: 9\n",
      "actual value: 6, predicted: 6\n",
      "actual value: 0, predicted: 0\n",
      "actual value: 6, predicted: 6\n"
     ]
    }
   ],
   "source": [
    "y_predicted = knn.predict(x_test)\n",
    "\n",
    "for predicted, actual in zip(y_predicted[:24], y_test[:24]):\n",
    "    print(f'actual value: {actual}, predicted: {predicted}')"
   ]
  },
  {
   "cell_type": "code",
   "execution_count": 84,
   "id": "98c1b227",
   "metadata": {},
   "outputs": [
    {
     "name": "stdout",
     "output_type": "stream",
     "text": [
      "Model score: 0.98\n"
     ]
    }
   ],
   "source": [
    "print(f'Model score for KNN: {round(knn.score(x_test, y_test), 2)}')"
   ]
  },
  {
   "cell_type": "code",
   "execution_count": 86,
   "id": "b5433bab",
   "metadata": {},
   "outputs": [
    {
     "data": {
      "text/plain": [
       "array([[45,  0,  0,  0,  0,  0,  0,  0,  0,  0],\n",
       "       [ 0, 45,  0,  0,  0,  0,  0,  0,  0,  0],\n",
       "       [ 0,  0, 54,  0,  0,  0,  0,  0,  0,  0],\n",
       "       [ 0,  0,  0, 42,  0,  1,  0,  1,  0,  0],\n",
       "       [ 0,  0,  0,  0, 49,  0,  0,  1,  0,  0],\n",
       "       [ 0,  0,  0,  0,  0, 38,  0,  0,  0,  0],\n",
       "       [ 0,  0,  0,  0,  0,  0, 42,  0,  0,  0],\n",
       "       [ 0,  0,  0,  0,  0,  0,  0, 45,  0,  0],\n",
       "       [ 0,  1,  1,  2,  0,  0,  0,  0, 39,  1],\n",
       "       [ 0,  0,  0,  0,  1,  0,  0,  0,  1, 41]])"
      ]
     },
     "execution_count": 86,
     "metadata": {},
     "output_type": "execute_result"
    }
   ],
   "source": [
    "confusion_matrix(y_true=y_test, y_pred=y_predicted)"
   ]
  },
  {
   "cell_type": "code",
   "execution_count": 90,
   "id": "6ea9cbdd",
   "metadata": {},
   "outputs": [],
   "source": [
    "names = [str(digit) for digit in digits.target_names]\n",
    "report = classification_report(y_true=y_test, y_pred=y_predicted, target_names=names)"
   ]
  },
  {
   "cell_type": "code",
   "execution_count": 91,
   "id": "6f738e0e",
   "metadata": {},
   "outputs": [
    {
     "name": "stdout",
     "output_type": "stream",
     "text": [
      "              precision    recall  f1-score   support\n",
      "\n",
      "           0       1.00      1.00      1.00        45\n",
      "           1       0.98      1.00      0.99        45\n",
      "           2       0.98      1.00      0.99        54\n",
      "           3       0.95      0.95      0.95        44\n",
      "           4       0.98      0.98      0.98        50\n",
      "           5       0.97      1.00      0.99        38\n",
      "           6       1.00      1.00      1.00        42\n",
      "           7       0.96      1.00      0.98        45\n",
      "           8       0.97      0.89      0.93        44\n",
      "           9       0.98      0.95      0.96        43\n",
      "\n",
      "    accuracy                           0.98       450\n",
      "   macro avg       0.98      0.98      0.98       450\n",
      "weighted avg       0.98      0.98      0.98       450\n",
      "\n"
     ]
    }
   ],
   "source": [
    "print(report)"
   ]
  },
  {
   "cell_type": "code",
   "execution_count": 94,
   "id": "e5058f56",
   "metadata": {},
   "outputs": [
    {
     "name": "stdout",
     "output_type": "stream",
     "text": [
      "Model score for SVC: 0.99\n"
     ]
    }
   ],
   "source": [
    "svc = SVC()\n",
    "svc.fit(x_train, y_train)\n",
    "\n",
    "print(f'Model score for SVC: {round(svc.score(x_test, y_test), 2)}')"
   ]
  },
  {
   "cell_type": "code",
   "execution_count": 95,
   "id": "6d75be9c",
   "metadata": {},
   "outputs": [
    {
     "name": "stdout",
     "output_type": "stream",
     "text": [
      "Model score for GNB: 0.87\n"
     ]
    }
   ],
   "source": [
    "gnb = GaussianNB()\n",
    "gnb.fit(x_train, y_train)\n",
    "\n",
    "print(f'Model score for GNB: {round(gnb.score(x_test, y_test), 2)}')"
   ]
  },
  {
   "cell_type": "code",
   "execution_count": 102,
   "id": "abc658c2",
   "metadata": {},
   "outputs": [
    {
     "name": "stdout",
     "output_type": "stream",
     "text": [
      "Model score for KNN with k=3: 0.98222\n",
      "Model score for KNN with k=4: 0.98222\n",
      "Model score for KNN with k=5: 0.97778\n",
      "Model score for KNN with k=6: 0.97778\n",
      "Model score for KNN with k=7: 0.98\n",
      "Model score for KNN with k=8: 0.97778\n",
      "Model score for KNN with k=9: 0.97778\n",
      "Model score for KNN with k=10: 0.97556\n",
      "Model score for KNN with k=11: 0.97778\n",
      "Model score for KNN with k=12: 0.97111\n",
      "Model score for KNN with k=13: 0.97778\n",
      "Model score for KNN with k=14: 0.97556\n",
      "------------------------------\n",
      "KNN model has the biggest score with k = 4\n"
     ]
    }
   ],
   "source": [
    "max_score, best_k = 0, None\n",
    "\n",
    "for k in range(3, 15):\n",
    "    knn = KNeighborsClassifier(n_neighbors=k)\n",
    "    knn.fit(x_train, y_train)\n",
    "    \n",
    "    score = knn.score(x_test, y_test)\n",
    "    print(f'Model score for KNN with {k=}: {round(score, 5)}')\n",
    "    \n",
    "    if best_k is None or score >= max_score:\n",
    "        max_score = score\n",
    "        best_k = k\n",
    "\n",
    "print('-' * 30)\n",
    "print(f'KNN model has the biggest score with k = {best_k}')"
   ]
  }
 ],
 "metadata": {
  "kernelspec": {
   "display_name": "Python 3",
   "language": "python",
   "name": "python3"
  },
  "language_info": {
   "codemirror_mode": {
    "name": "ipython",
    "version": 3
   },
   "file_extension": ".py",
   "mimetype": "text/x-python",
   "name": "python",
   "nbconvert_exporter": "python",
   "pygments_lexer": "ipython3",
   "version": "3.8.8"
  }
 },
 "nbformat": 4,
 "nbformat_minor": 5
}
