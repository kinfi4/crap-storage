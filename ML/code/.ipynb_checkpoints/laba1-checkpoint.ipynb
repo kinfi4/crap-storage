{
 "cells": [
  {
   "cell_type": "code",
   "execution_count": 23,
   "id": "eb1d0de2",
   "metadata": {},
   "outputs": [],
   "source": [
    "import statistics\n",
    "import pandas as pd\n",
    "import matplotlib.pyplot as plt"
   ]
  },
  {
   "cell_type": "markdown",
   "id": "a6db9634",
   "metadata": {},
   "source": [
    "Я не знаю можно ли использовать pandas в данной работе, но я с вашего позволения, файлик  \n",
    "открою в нем, и достану данные, а дальше как вы показывали заюзаю **statistics**"
   ]
  },
  {
   "cell_type": "code",
   "execution_count": 24,
   "id": "9344c3c0",
   "metadata": {},
   "outputs": [],
   "source": [
    "df = pd.read_csv('data/GDP by Country in 2017.csv')"
   ]
  },
  {
   "cell_type": "code",
   "execution_count": 25,
   "id": "09e966f7",
   "metadata": {},
   "outputs": [
    {
     "data": {
      "text/html": [
       "<div>\n",
       "<style scoped>\n",
       "    .dataframe tbody tr th:only-of-type {\n",
       "        vertical-align: middle;\n",
       "    }\n",
       "\n",
       "    .dataframe tbody tr th {\n",
       "        vertical-align: top;\n",
       "    }\n",
       "\n",
       "    .dataframe thead th {\n",
       "        text-align: right;\n",
       "    }\n",
       "</style>\n",
       "<table border=\"1\" class=\"dataframe\">\n",
       "  <thead>\n",
       "    <tr style=\"text-align: right;\">\n",
       "      <th></th>\n",
       "      <th>Rank</th>\n",
       "      <th>Country</th>\n",
       "      <th>GDP(in US$)</th>\n",
       "      <th>GDP (abbrev.)</th>\n",
       "      <th>GDP growth %</th>\n",
       "      <th>Population (2017)</th>\n",
       "      <th>GDP per capita(in US$)</th>\n",
       "      <th>Share of World GDP %</th>\n",
       "    </tr>\n",
       "  </thead>\n",
       "  <tbody>\n",
       "    <tr>\n",
       "      <th>0</th>\n",
       "      <td>1</td>\n",
       "      <td>United States</td>\n",
       "      <td>19485394000000</td>\n",
       "      <td>$19.485 trillion</td>\n",
       "      <td>2.27</td>\n",
       "      <td>325084756</td>\n",
       "      <td>59939</td>\n",
       "      <td>24.08</td>\n",
       "    </tr>\n",
       "    <tr>\n",
       "      <th>1</th>\n",
       "      <td>2</td>\n",
       "      <td>China</td>\n",
       "      <td>12237700479375</td>\n",
       "      <td>$12.238 trillion</td>\n",
       "      <td>6.90</td>\n",
       "      <td>1421021791</td>\n",
       "      <td>8612</td>\n",
       "      <td>15.12</td>\n",
       "    </tr>\n",
       "    <tr>\n",
       "      <th>2</th>\n",
       "      <td>3</td>\n",
       "      <td>Japan</td>\n",
       "      <td>4872415104315</td>\n",
       "      <td>$4.872 trillion</td>\n",
       "      <td>1.71</td>\n",
       "      <td>127502725</td>\n",
       "      <td>38214</td>\n",
       "      <td>6.02</td>\n",
       "    </tr>\n",
       "    <tr>\n",
       "      <th>3</th>\n",
       "      <td>4</td>\n",
       "      <td>Germany</td>\n",
       "      <td>3693204332230</td>\n",
       "      <td>$3.693 trillion</td>\n",
       "      <td>2.22</td>\n",
       "      <td>82658409</td>\n",
       "      <td>44680</td>\n",
       "      <td>4.56</td>\n",
       "    </tr>\n",
       "    <tr>\n",
       "      <th>4</th>\n",
       "      <td>5</td>\n",
       "      <td>India</td>\n",
       "      <td>2650725335364</td>\n",
       "      <td>$2.651 trillion</td>\n",
       "      <td>6.68</td>\n",
       "      <td>1338676785</td>\n",
       "      <td>1980</td>\n",
       "      <td>3.28</td>\n",
       "    </tr>\n",
       "  </tbody>\n",
       "</table>\n",
       "</div>"
      ],
      "text/plain": [
       "   Rank        Country     GDP(in US$)     GDP (abbrev.)  GDP growth %  \\\n",
       "0     1  United States  19485394000000  $19.485 trillion          2.27   \n",
       "1     2          China  12237700479375  $12.238 trillion          6.90   \n",
       "2     3          Japan   4872415104315   $4.872 trillion          1.71   \n",
       "3     4        Germany   3693204332230   $3.693 trillion          2.22   \n",
       "4     5          India   2650725335364   $2.651 trillion          6.68   \n",
       "\n",
       "   Population (2017)  GDP per capita(in US$)  Share of World GDP %  \n",
       "0          325084756                   59939                 24.08  \n",
       "1         1421021791                    8612                 15.12  \n",
       "2          127502725                   38214                  6.02  \n",
       "3           82658409                   44680                  4.56  \n",
       "4         1338676785                    1980                  3.28  "
      ]
     },
     "execution_count": 25,
     "metadata": {},
     "output_type": "execute_result"
    }
   ],
   "source": [
    "df.head()"
   ]
  },
  {
   "cell_type": "code",
   "execution_count": 26,
   "id": "176a247f",
   "metadata": {},
   "outputs": [
    {
     "data": {
      "text/plain": [
       "0"
      ]
     },
     "execution_count": 26,
     "metadata": {},
     "output_type": "execute_result"
    }
   ],
   "source": [
    "df['GDP(in US$)'].isnull().sum()"
   ]
  },
  {
   "cell_type": "code",
   "execution_count": 27,
   "id": "4651c3ad",
   "metadata": {},
   "outputs": [
    {
     "data": {
      "text/plain": [
       "[19485394000000,\n",
       " 12237700479375,\n",
       " 4872415104315,\n",
       " 3693204332230,\n",
       " 2650725335364,\n",
       " 2637866340434,\n",
       " 2582501307216,\n",
       " 2053594877013,\n",
       " 1943835376342,\n",
       " 1647120175449,\n",
       " 1578417211937,\n",
       " 1530750923149,\n",
       " 1323421072479,\n",
       " 1314314164402,\n",
       " 1150887823404,\n",
       " 1015420587285,\n",
       " 851549299635,\n",
       " 830572618850,\n",
       " 686738400000,\n",
       " 678965423322,\n",
       " 637430331479,\n",
       " 535607385506,\n",
       " 526465839003,\n",
       " 494763551891,\n",
       " 455302682986,\n",
       " 454012768724,\n",
       " 416835975862,\n",
       " 399488897844,\n",
       " 382575085092,\n",
       " 375745486521,\n",
       " 353268411919,\n",
       " 348871647960,\n",
       " 341449340451,\n",
       " 331430014003,\n",
       " 329865537183,\n",
       " 323907234412,\n",
       " 314710259511,\n",
       " 314457601860,\n",
       " 313595208737,\n",
       " 304951818494,\n",
       " 277075944402,\n",
       " 252301837573,\n",
       " 249723862487,\n",
       " 235369129338,\n",
       " 223779865815,\n",
       " 219308128887,\n",
       " 215913545038,\n",
       " 211883923504,\n",
       " 211389272242,\n",
       " 204139049909,\n",
       " 203085551429,\n",
       " 192060810811,\n",
       " 167555280113,\n",
       " 166928571429,\n",
       " 162886867832,\n",
       " 139761138103,\n",
       " 122123822334,\n",
       " 120126277613,\n",
       " 117487857143,\n",
       " 112154185121,\n",
       " 109708728849,\n",
       " 104295862000,\n",
       " 96851000000,\n",
       " 95617670260,\n",
       " 87357205923,\n",
       " 80561496134,\n",
       " 79263075749,\n",
       " 75931656815,\n",
       " 75620095538,\n",
       " 70783875163,\n",
       " 67068745521,\n",
       " 62316359824,\n",
       " 62283756584,\n",
       " 58996776238,\n",
       " 58220973783,\n",
       " 57285984448,\n",
       " 56156972158,\n",
       " 55213087271,\n",
       " 54456465473,\n",
       " 53576985687,\n",
       " 53320625959,\n",
       " 50361201096,\n",
       " 49677172714,\n",
       " 48769655479,\n",
       " 47544459559,\n",
       " 41431648801,\n",
       " 40747792238,\n",
       " 40068308451,\n",
       " 39952095561,\n",
       " 39667400816,\n",
       " 38107728083,\n",
       " 37926285714,\n",
       " 37642482562,\n",
       " 37508642113,\n",
       " 37353276059,\n",
       " 35432686170,\n",
       " 34922782311,\n",
       " 31267675216,\n",
       " 30463302414,\n",
       " 26611651599,\n",
       " 25995031850,\n",
       " 25868142073,\n",
       " 24880266905,\n",
       " 24805439600,\n",
       " 24488467010,\n",
       " 22978532897,\n",
       " 22158209503,\n",
       " 22079017627,\n",
       " 22054225828,\n",
       " 22040902300,\n",
       " 21070225735,\n",
       " 20536314601,\n",
       " 19543976895,\n",
       " 18054854789,\n",
       " 17406565823,\n",
       " 16853087485,\n",
       " 15334336144,\n",
       " 15081338092,\n",
       " 15013950984,\n",
       " 14781107822,\n",
       " 14498100000,\n",
       " 13814261536,\n",
       " 13266427697,\n",
       " 13253698015,\n",
       " 13038538300,\n",
       " 12645508634,\n",
       " 12518134319,\n",
       " 12322864245,\n",
       " 12293579173,\n",
       " 12162100000,\n",
       " 12128089002,\n",
       " 11536590636,\n",
       " 11499803807,\n",
       " 11433635876,\n",
       " 11279509014,\n",
       " 10472514515,\n",
       " 9871247732,\n",
       " 9246696924,\n",
       " 9135454442,\n",
       " 8701334800,\n",
       " 8408150518,\n",
       " 8128493432,\n",
       " 8119710126,\n",
       " 7564738836,\n",
       " 7146449583,\n",
       " 6303292264,\n",
       " 5859000000,\n",
       " 5061202767,\n",
       " 5024708656,\n",
       " 4865546027,\n",
       " 4844592067,\n",
       " 4757776485,\n",
       " 4673500000,\n",
       " 4433664364,\n",
       " 3775047334,\n",
       " 3621046005,\n",
       " 3285455000,\n",
       " 3172416146,\n",
       " 3012914131,\n",
       " 2995827901,\n",
       " 2954621000,\n",
       " 2700558659,\n",
       " 2578265358,\n",
       " 2528007911,\n",
       " 1949411659,\n",
       " 1862614800,\n",
       " 1772706451,\n",
       " 1737504296,\n",
       " 1632860041,\n",
       " 1593000000,\n",
       " 1510084751,\n",
       " 1497959569,\n",
       " 1489464788,\n",
       " 1346841897,\n",
       " 1303453622,\n",
       " 1126882296,\n",
       " 1068124330,\n",
       " 992007403,\n",
       " 862879789,\n",
       " 840927997,\n",
       " 785222509,\n",
       " 634000000,\n",
       " 496727000,\n",
       " 427659795,\n",
       " 392570293,\n",
       " 289823500,\n",
       " 204173430,\n",
       " 185572502,\n",
       " 39731317]"
      ]
     },
     "execution_count": 27,
     "metadata": {},
     "output_type": "execute_result"
    }
   ],
   "source": [
    "gdp_raw = list(df['GDP(in US$)'])\n",
    "gdp_raw"
   ]
  },
  {
   "cell_type": "code",
   "execution_count": 28,
   "id": "a0da3b14",
   "metadata": {},
   "outputs": [
    {
     "name": "stdout",
     "output_type": "stream",
     "text": [
      "Median of GDP in 2017 was: 37353276059\n",
      "Mode of GDP in 2017 was: 19485394000000\n",
      "Mean of GDP in 2017 was: 421023956456.77\n"
     ]
    }
   ],
   "source": [
    "print(f'Median of GDP in 2017 was:', statistics.median(gdp_raw))\n",
    "\n",
    "try:\n",
    "    print(f'Mode of GDP in 2017 was:', statistics.mode(gdp_raw))\n",
    "except statistics.StatisticsError:\n",
    "    print('Cannot calculate mode for GDP data')\n",
    "\n",
    "print(f'Mean of GDP in 2017 was:', round(statistics.mean(gdp_raw), 2))"
   ]
  },
  {
   "cell_type": "code",
   "execution_count": 29,
   "id": "ef9cf0f7",
   "metadata": {},
   "outputs": [
    {
     "name": "stdout",
     "output_type": "stream",
     "text": [
      "Dispersion of GDP in 2017 was: 3.079113663813578e+24\n",
      "Standard diviation of GDP in 2017 was: 1754740340852.0527\n"
     ]
    }
   ],
   "source": [
    "print(f'Dispersion of GDP in 2017 was:', statistics.pvariance(gdp_raw))\n",
    "print(f'Standard diviation of GDP in 2017 was:', statistics.pstdev(gdp_raw))"
   ]
  },
  {
   "cell_type": "markdown",
   "id": "32204634",
   "metadata": {},
   "source": [
    "Дисперсия выглядит какой-то очень большой, но если мы посмотрим в каких порядках у нас  \n",
    "измеряется ВВП то все становится на свои места."
   ]
  },
  {
   "cell_type": "markdown",
   "id": "b0bf3d5d",
   "metadata": {},
   "source": [
    "Я взял только первые 10 экономик мира, так как все красиво визуализировать довольно сложно"
   ]
  },
  {
   "cell_type": "code",
   "execution_count": 20,
   "id": "9d611c23",
   "metadata": {},
   "outputs": [],
   "source": [
    "plt.rcParams['figure.figsize'] = [30, 10]\n",
    "plt.rcParams.update({'font.size': 25})\n",
    "plt.rcParams.update({'xtick.color': 'white'})"
   ]
  },
  {
   "cell_type": "code",
   "execution_count": 30,
   "id": "1f4f1ba6",
   "metadata": {},
   "outputs": [
    {
     "data": {
      "image/png": "[encoded data removed]",
      "text/plain": [
       "<Figure size 2160x720 with 1 Axes>"
      ]
     },
     "metadata": {},
     "output_type": "display_data"
    }
   ],
   "source": [
    "top_10_gdp = gdp_raw[:10]\n",
    "top_10_countries = list(df['Country'])[:10]\n",
    "\n",
    "plt.bar(top_10_countries, top_10_gdp)\n",
    "\n",
    "plt.show()"
   ]
  },
  {
   "cell_type": "markdown",
   "id": "a474015d",
   "metadata": {},
   "source": [
    "В задании было сделать гистограмму, поэтому я ща и ее сделаю, просто for legal reasons  \n",
    "так сказать"
   ]
  },
  {
   "cell_type": "code",
   "execution_count": 22,
   "id": "6792207e",
   "metadata": {},
   "outputs": [
    {
     "data": {
      "image/png": "[encoded data removed]",
      "text/plain": [
       "<Figure size 2160x720 with 1 Axes>"
      ]
     },
     "metadata": {},
     "output_type": "display_data"
    }
   ],
   "source": [
    "plt.hist(gdp_raw, bins=50)\n",
    "plt.xlabel('GDP')\n",
    "plt.ylabel('Number of countries')\n",
    "\n",
    "plt.show()"
   ]
  }
 ],
 "metadata": {
  "kernelspec": {
   "display_name": "Python 3",
   "language": "python",
   "name": "python3"
  },
  "language_info": {
   "codemirror_mode": {
    "name": "ipython",
    "version": 3
   },
   "file_extension": ".py",
   "mimetype": "text/x-python",
   "name": "python",
   "nbconvert_exporter": "python",
   "pygments_lexer": "ipython3",
   "version": "3.8.8"
  }
 },
 "nbformat": 4,
 "nbformat_minor": 5
}
