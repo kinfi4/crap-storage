{
 "cells": [
  {
   "cell_type": "code",
   "execution_count": 34,
   "id": "63e5dd7d",
   "metadata": {},
   "outputs": [],
   "source": [
    "import cv2\n",
    "import matplotlib.pyplot as plt\n",
    "import numpy as np\n",
    "from keras import layers\n",
    "from keras.models import Sequential\n",
    "from keras.datasets import fashion_mnist\n",
    "from keras.utils import to_categorical\n",
    "from keras.optimizers import Adam"
   ]
  },
  {
   "cell_type": "code",
   "execution_count": 9,
   "id": "dde4cb49",
   "metadata": {},
   "outputs": [],
   "source": [
    "(train_images, train_labels), (test_images, test_labels) = fashion_mnist.load_data()"
   ]
  },
  {
   "cell_type": "code",
   "execution_count": 10,
   "id": "801f03b2",
   "metadata": {},
   "outputs": [],
   "source": [
    "train_images = train_images.astype('float32') / 255.0\n",
    "test_images = test_images.astype('float32') / 255.0"
   ]
  },
  {
   "cell_type": "code",
   "execution_count": 11,
   "id": "479e2216",
   "metadata": {},
   "outputs": [],
   "source": [
    "train_images = np.expand_dims(train_images, axis=3)\n",
    "test_images = np.expand_dims(test_images, axis=3)"
   ]
  },
  {
   "cell_type": "code",
   "execution_count": 12,
   "id": "08990959",
   "metadata": {},
   "outputs": [
    {
     "data": {
      "text/plain": [
       "(60000, 28, 28, 1)"
      ]
     },
     "execution_count": 12,
     "metadata": {},
     "output_type": "execute_result"
    }
   ],
   "source": [
    "train_images.shape"
   ]
  },
  {
   "cell_type": "code",
   "execution_count": 13,
   "id": "c909f6df",
   "metadata": {},
   "outputs": [
    {
     "data": {
      "image/png": "[encoded data removed]",
      "text/plain": [
       "<Figure size 432x288 with 6 Axes>"
      ]
     },
     "metadata": {},
     "output_type": "display_data"
    }
   ],
   "source": [
    "_, axes = plt.subplots(2, 3)\n",
    "axes = axes.flatten()\n",
    "\n",
    "for image, axe in zip(train_images, axes):\n",
    "    axe.imshow(image)\n",
    "    axe.set_xticks([])\n",
    "    axe.set_yticks([])\n",
    "\n",
    "plt.subplots_adjust(wspace=0.05, hspace=0.05)\n",
    "plt.show()"
   ]
  },
  {
   "cell_type": "code",
   "execution_count": 14,
   "id": "f723b75f",
   "metadata": {},
   "outputs": [],
   "source": [
    "train_labels = to_categorical(train_labels)\n",
    "test_labels = to_categorical(test_labels)"
   ]
  },
  {
   "cell_type": "code",
   "execution_count": 15,
   "id": "0ce99427",
   "metadata": {},
   "outputs": [],
   "source": [
    "def label_array_to_labels_name(label_arr):\n",
    "    image_index = {\n",
    "        0: 'T-shirt/top',\n",
    "        1: 'Trouser',\n",
    "        2: 'Pullover',\n",
    "        3: 'Dress',\n",
    "        4: 'Coat',\n",
    "        5: 'Sandal',\n",
    "        6: 'Shirt',\n",
    "        7: 'Sneaker',\n",
    "        8: 'Bag',\n",
    "        9: 'Ankle boot'\n",
    "    }\n",
    "    \n",
    "    return image_index[label_arr.argmax()]"
   ]
  },
  {
   "cell_type": "code",
   "execution_count": 29,
   "id": "ee7843ec",
   "metadata": {},
   "outputs": [],
   "source": [
    "# Lets build a model\n",
    "\n",
    "model = Sequential([\n",
    "    layers.Conv2D(\n",
    "        filters=32, kernel_size=(3, 3), padding='same',\n",
    "        activation='relu', input_shape=(28,28,1)\n",
    "    ),\n",
    "    layers.MaxPool2D(pool_size=(2,2), strides=2),\n",
    "    layers.Conv2D(filters=64, kernel_size=(3, 3), padding='same', activation='relu'),\n",
    "    layers.MaxPool2D(pool_size=(2,2), strides=2),\n",
    "    layers.Flatten(),\n",
    "    layers.Dense(128, activation='relu'),\n",
    "    layers.Dense(10, activation='softmax')\n",
    "])"
   ]
  },
  {
   "cell_type": "code",
   "execution_count": 30,
   "id": "4a1fd373",
   "metadata": {},
   "outputs": [
    {
     "name": "stdout",
     "output_type": "stream",
     "text": [
      "Model: \"sequential_2\"\n",
      "_________________________________________________________________\n",
      "Layer (type)                 Output Shape              Param #   \n",
      "=================================================================\n",
      "conv2d_4 (Conv2D)            (None, 28, 28, 32)        320       \n",
      "_________________________________________________________________\n",
      "max_pooling2d_4 (MaxPooling2 (None, 14, 14, 32)        0         \n",
      "_________________________________________________________________\n",
      "conv2d_5 (Conv2D)            (None, 14, 14, 64)        18496     \n",
      "_________________________________________________________________\n",
      "max_pooling2d_5 (MaxPooling2 (None, 7, 7, 64)          0         \n",
      "_________________________________________________________________\n",
      "flatten (Flatten)            (None, 3136)              0         \n",
      "_________________________________________________________________\n",
      "dense_4 (Dense)              (None, 128)               401536    \n",
      "_________________________________________________________________\n",
      "dense_5 (Dense)              (None, 10)                1290      \n",
      "=================================================================\n",
      "Total params: 421,642\n",
      "Trainable params: 421,642\n",
      "Non-trainable params: 0\n",
      "_________________________________________________________________\n"
     ]
    }
   ],
   "source": [
    "model.summary()"
   ]
  },
  {
   "cell_type": "code",
   "execution_count": 31,
   "id": "93adb55d",
   "metadata": {},
   "outputs": [],
   "source": [
    "model.compile(optimizer=Adam(), loss='categorical_crossentropy', metrics=['accuracy'])"
   ]
  },
  {
   "cell_type": "code",
   "execution_count": 32,
   "id": "69a4a017",
   "metadata": {},
   "outputs": [
    {
     "name": "stdout",
     "output_type": "stream",
     "text": [
      "Epoch 1/10\n",
      "2000/2000 [==============================] - 124s 62ms/step - loss: 0.5463 - accuracy: 0.8024\n",
      "Epoch 2/10\n",
      "2000/2000 [==============================] - 146s 73ms/step - loss: 0.2710 - accuracy: 0.8989\n",
      "Epoch 3/10\n",
      "2000/2000 [==============================] - 88s 44ms/step - loss: 0.2214 - accuracy: 0.9195\n",
      "Epoch 4/10\n",
      "2000/2000 [==============================] - 102s 51ms/step - loss: 0.1851 - accuracy: 0.9302\n",
      "Epoch 5/10\n",
      "2000/2000 [==============================] - 131s 65ms/step - loss: 0.1577 - accuracy: 0.9415\n",
      "Epoch 6/10\n",
      "2000/2000 [==============================] - 164s 82ms/step - loss: 0.1344 - accuracy: 0.9512\n",
      "Epoch 7/10\n",
      "2000/2000 [==============================] - 155s 78ms/step - loss: 0.1113 - accuracy: 0.9593\n",
      "Epoch 8/10\n",
      "2000/2000 [==============================] - 170s 85ms/step - loss: 0.0957 - accuracy: 0.9637\n",
      "Epoch 9/10\n",
      "2000/2000 [==============================] - 170s 85ms/step - loss: 0.0765 - accuracy: 0.9713\n",
      "Epoch 10/10\n",
      "2000/2000 [==============================] - 172s 86ms/step - loss: 0.0657 - accuracy: 0.9751\n"
     ]
    },
    {
     "data": {
      "text/plain": [
       "<tensorflow.python.keras.callbacks.History at 0x7fd6d070e5b0>"
      ]
     },
     "execution_count": 32,
     "metadata": {},
     "output_type": "execute_result"
    }
   ],
   "source": [
    "model.fit(x=train_images, y=train_labels, epochs=10, batch_size=30)"
   ]
  },
  {
   "cell_type": "code",
   "execution_count": 33,
   "id": "dcd48fb4",
   "metadata": {},
   "outputs": [
    {
     "name": "stdout",
     "output_type": "stream",
     "text": [
      "313/313 [==============================] - 9s 28ms/step - loss: 0.2961 - accuracy: 0.9163\n"
     ]
    },
    {
     "data": {
      "text/plain": [
       "[0.2961329221725464, 0.9162999987602234]"
      ]
     },
     "execution_count": 33,
     "metadata": {},
     "output_type": "execute_result"
    }
   ],
   "source": [
    "model.evaluate(x=test_images, y=test_labels)"
   ]
  },
  {
   "cell_type": "code",
   "execution_count": 64,
   "id": "4d97a3ce",
   "metadata": {},
   "outputs": [
    {
     "data": {
      "image/png": "[encoded data removed]",
      "text/plain": [
       "<Figure size 432x288 with 1 Axes>"
      ]
     },
     "metadata": {
      "needs_background": "light"
     },
     "output_type": "display_data"
    }
   ],
   "source": [
    "img = 255 - cv2.imread('images/tshirt.jpg')\n",
    "img = img.astype('float32') / 255\n",
    "img = cv2.resize(img, (28, 28))\n",
    "img = np.delete(img, (0, 1), axis=2)\n",
    "plt.imshow(img)\n",
    "plt.show()"
   ]
  },
  {
   "cell_type": "code",
   "execution_count": 65,
   "id": "0b6bfffa",
   "metadata": {},
   "outputs": [],
   "source": [
    "img = np.expand_dims(img, axis=0)\n",
    "result = model.predict(x=img)"
   ]
  },
  {
   "cell_type": "code",
   "execution_count": 66,
   "id": "bf704d8b",
   "metadata": {},
   "outputs": [
    {
     "name": "stdout",
     "output_type": "stream",
     "text": [
      "Predicted result is: T-shirt/top\n"
     ]
    }
   ],
   "source": [
    "print(f'Predicted result is: {label_array_to_labels_name(result)}')"
   ]
  }
 ],
 "metadata": {
  "kernelspec": {
   "display_name": "Python 3",
   "language": "python",
   "name": "python3"
  },
  "language_info": {
   "codemirror_mode": {
    "name": "ipython",
    "version": 3
   },
   "file_extension": ".py",
   "mimetype": "text/x-python",
   "name": "python",
   "nbconvert_exporter": "python",
   "pygments_lexer": "ipython3",
   "version": "3.8.8"
  }
 },
 "nbformat": 4,
 "nbformat_minor": 5
}
