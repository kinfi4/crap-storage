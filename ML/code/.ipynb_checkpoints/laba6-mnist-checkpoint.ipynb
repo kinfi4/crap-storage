{
 "cells": [
  {
   "cell_type": "code",
   "execution_count": 1,
   "id": "09d001c6",
   "metadata": {},
   "outputs": [],
   "source": [
    "import cv2\n",
    "import matplotlib.pyplot as plt\n",
    "from keras.datasets import mnist\n",
    "from keras import layers\n",
    "from keras.utils import to_categorical\n",
    "from keras.models import Sequential, load_model"
   ]
  },
  {
   "cell_type": "code",
   "execution_count": 2,
   "id": "9e40cc81",
   "metadata": {},
   "outputs": [],
   "source": [
    "(train_images, train_labels), (test_images, test_labels) = mnist.load_data()"
   ]
  },
  {
   "cell_type": "code",
   "execution_count": 3,
   "id": "476cad92",
   "metadata": {},
   "outputs": [
    {
     "data": {
      "image/png": "[encoded data removed]",
      "text/plain": [
       "<Figure size 432x288 with 4 Axes>"
      ]
     },
     "metadata": {},
     "output_type": "display_data"
    }
   ],
   "source": [
    "figure, axes = plt.subplots(nrows=2, ncols=2, figsize=(6, 4))\n",
    "\n",
    "for axes, image, target in zip(axes.ravel(), train_images, train_labels):\n",
    "    axes.imshow(image, cmap=plt.cm.gray_r)\n",
    "    axes.set_xticks([])\n",
    "    axes.set_yticks([])\n",
    "    axes.set_title(target)\n",
    "\n",
    "plt.tight_layout()"
   ]
  },
  {
   "cell_type": "code",
   "execution_count": 4,
   "id": "45e104b2",
   "metadata": {},
   "outputs": [],
   "source": [
    "train_images = train_images.reshape((60000, 28 * 28))\n",
    "train_images = train_images.astype('float32') / 255\n",
    "\n",
    "test_images = test_images.reshape((10000, 28 * 28))\n",
    "test_images = test_images.astype('float32') / 255"
   ]
  },
  {
   "cell_type": "code",
   "execution_count": 5,
   "id": "d12e36ab",
   "metadata": {},
   "outputs": [],
   "source": [
    "train_labels = to_categorical(train_labels)\n",
    "test_labels = to_categorical(test_labels)"
   ]
  },
  {
   "cell_type": "markdown",
   "id": "947e4aa4",
   "metadata": {},
   "source": [
    "## Building model"
   ]
  },
  {
   "cell_type": "code",
   "execution_count": 6,
   "id": "42f91053",
   "metadata": {},
   "outputs": [],
   "source": [
    "model = Sequential()\n",
    "model.add(layers.Dense(512, activation='relu', input_shape=(28 * 28,)))\n",
    "model.add(layers.Dense(10, activation='softmax'))"
   ]
  },
  {
   "cell_type": "code",
   "execution_count": 7,
   "id": "f5e306a7",
   "metadata": {},
   "outputs": [],
   "source": [
    "model.compile(optimizer='rmsprop', loss='categorical_crossentropy', metrics=['accuracy'])"
   ]
  },
  {
   "cell_type": "code",
   "execution_count": 26,
   "id": "b086aea2",
   "metadata": {},
   "outputs": [
    {
     "name": "stdout",
     "output_type": "stream",
     "text": [
      "Epoch 1/10\n",
      "469/469 [==============================] - 12s 23ms/step - loss: 0.3936 - accuracy: 0.8890\n",
      "Epoch 2/10\n",
      "469/469 [==============================] - 15s 33ms/step - loss: 0.1114 - accuracy: 0.9662\n",
      "Epoch 3/10\n",
      "469/469 [==============================] - 13s 27ms/step - loss: 0.0683 - accuracy: 0.9799\n",
      "Epoch 4/10\n",
      "469/469 [==============================] - 11s 23ms/step - loss: 0.0485 - accuracy: 0.9858\n",
      "Epoch 5/10\n",
      "469/469 [==============================] - 11s 24ms/step - loss: 0.0350 - accuracy: 0.9902\n",
      "Epoch 6/10\n",
      "469/469 [==============================] - 11s 24ms/step - loss: 0.0266 - accuracy: 0.9919\n",
      "Epoch 7/10\n",
      "469/469 [==============================] - 9s 19ms/step - loss: 0.0202 - accuracy: 0.9940\n",
      "Epoch 8/10\n",
      "469/469 [==============================] - 11s 24ms/step - loss: 0.0170 - accuracy: 0.9954\n",
      "Epoch 9/10\n",
      "469/469 [==============================] - 11s 24ms/step - loss: 0.0121 - accuracy: 0.9967\n",
      "Epoch 10/10\n",
      "469/469 [==============================] - 12s 25ms/step - loss: 0.0090 - accuracy: 0.9976\n"
     ]
    },
    {
     "data": {
      "text/plain": [
       "<tensorflow.python.keras.callbacks.History at 0x7f0bb8aa9520>"
      ]
     },
     "execution_count": 26,
     "metadata": {},
     "output_type": "execute_result"
    }
   ],
   "source": [
    "model.fit(x=train_images, y=train_labels, epochs=10, batch_size=128)"
   ]
  },
  {
   "cell_type": "code",
   "execution_count": 27,
   "id": "547e5b0c",
   "metadata": {},
   "outputs": [
    {
     "name": "stdout",
     "output_type": "stream",
     "text": [
      "313/313 [==============================] - 4s 11ms/step - loss: 0.0773 - accuracy: 0.9804\n"
     ]
    },
    {
     "data": {
      "text/plain": [
       "[0.07731213420629501, 0.980400025844574]"
      ]
     },
     "execution_count": 27,
     "metadata": {},
     "output_type": "execute_result"
    }
   ],
   "source": [
    "model.evaluate(x=test_images, y=test_labels)"
   ]
  },
  {
   "cell_type": "code",
   "execution_count": 28,
   "id": "567b686f",
   "metadata": {},
   "outputs": [],
   "source": [
    "model.save('models/digits_classifier.h5')"
   ]
  },
  {
   "cell_type": "code",
   "execution_count": null,
   "id": "1a524363",
   "metadata": {},
   "outputs": [],
   "source": [
    "model = load_model('models/digits_classifier.h5')"
   ]
  },
  {
   "cell_type": "code",
   "execution_count": 35,
   "id": "628dffbc",
   "metadata": {},
   "outputs": [],
   "source": [
    "image_5 = 255 - cv2.imread('images/5.png', 0)\n",
    "image_5 = cv2.resize(image_5, (28, 28))\n",
    "image_5 = image_5.reshape((1, 28 * 28))\n",
    "image_5 = image_5.astype('float32') / 255"
   ]
  },
  {
   "cell_type": "code",
   "execution_count": 37,
   "id": "9c9ad6eb",
   "metadata": {},
   "outputs": [],
   "source": [
    "result = model.predict(image_5)"
   ]
  },
  {
   "cell_type": "code",
   "execution_count": 41,
   "id": "5b99cd10",
   "metadata": {},
   "outputs": [
    {
     "name": "stdout",
     "output_type": "stream",
     "text": [
      "Prediction result: 5\n"
     ]
    }
   ],
   "source": [
    "print(f'Prediction result: {result.argmax()}')"
   ]
  }
 ],
 "metadata": {
  "kernelspec": {
   "display_name": "Python 3",
   "language": "python",
   "name": "python3"
  },
  "language_info": {
   "codemirror_mode": {
    "name": "ipython",
    "version": 3
   },
   "file_extension": ".py",
   "mimetype": "text/x-python",
   "name": "python",
   "nbconvert_exporter": "python",
   "pygments_lexer": "ipython3",
   "version": "3.8.8"
  }
 },
 "nbformat": 4,
 "nbformat_minor": 5
}
