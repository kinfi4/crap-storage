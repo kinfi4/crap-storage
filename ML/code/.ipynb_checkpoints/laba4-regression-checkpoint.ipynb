{
 "cells": [
  {
   "cell_type": "code",
   "execution_count": 52,
   "id": "7b234aff",
   "metadata": {},
   "outputs": [],
   "source": [
    "import pandas as pd\n",
    "import seaborn as sns\n",
    "import numpy as np\n",
    "import matplotlib.pyplot as plt\n",
    "from matplotlib.colors import ListedColormap\n",
    "from sklearn.model_selection import train_test_split\n",
    "from sklearn.linear_model import LinearRegression\n",
    "from sklearn.metrics import accuracy_score\n",
    "from sklearn.svm import SVC\n",
    "\n",
    "pd.set_option('display.precision', 2)"
   ]
  },
  {
   "cell_type": "markdown",
   "id": "30206838",
   "metadata": {},
   "source": [
    "#### Here we are trying to predict average temperature in the New York, based on data from the past using a simple linear regression"
   ]
  },
  {
   "cell_type": "code",
   "execution_count": 32,
   "id": "58f72afb",
   "metadata": {},
   "outputs": [
    {
     "data": {
      "text/html": [
       "<div>\n",
       "<style scoped>\n",
       "    .dataframe tbody tr th:only-of-type {\n",
       "        vertical-align: middle;\n",
       "    }\n",
       "\n",
       "    .dataframe tbody tr th {\n",
       "        vertical-align: top;\n",
       "    }\n",
       "\n",
       "    .dataframe thead th {\n",
       "        text-align: right;\n",
       "    }\n",
       "</style>\n",
       "<table border=\"1\" class=\"dataframe\">\n",
       "  <thead>\n",
       "    <tr style=\"text-align: right;\">\n",
       "      <th></th>\n",
       "      <th>Date</th>\n",
       "      <th>Temperature</th>\n",
       "      <th>Anomaly</th>\n",
       "    </tr>\n",
       "  </thead>\n",
       "  <tbody>\n",
       "    <tr>\n",
       "      <th>0</th>\n",
       "      <td>1895</td>\n",
       "      <td>29.4</td>\n",
       "      <td>-2.73</td>\n",
       "    </tr>\n",
       "    <tr>\n",
       "      <th>1</th>\n",
       "      <td>1896</td>\n",
       "      <td>29.0</td>\n",
       "      <td>-3.13</td>\n",
       "    </tr>\n",
       "    <tr>\n",
       "      <th>2</th>\n",
       "      <td>1897</td>\n",
       "      <td>29.8</td>\n",
       "      <td>-2.33</td>\n",
       "    </tr>\n",
       "    <tr>\n",
       "      <th>3</th>\n",
       "      <td>1898</td>\n",
       "      <td>34.4</td>\n",
       "      <td>2.27</td>\n",
       "    </tr>\n",
       "    <tr>\n",
       "      <th>4</th>\n",
       "      <td>1899</td>\n",
       "      <td>30.3</td>\n",
       "      <td>-1.83</td>\n",
       "    </tr>\n",
       "  </tbody>\n",
       "</table>\n",
       "</div>"
      ],
      "text/plain": [
       "   Date  Temperature  Anomaly\n",
       "0  1895         29.4    -2.73\n",
       "1  1896         29.0    -3.13\n",
       "2  1897         29.8    -2.33\n",
       "3  1898         34.4     2.27\n",
       "4  1899         30.3    -1.83"
      ]
     },
     "execution_count": 32,
     "metadata": {},
     "output_type": "execute_result"
    }
   ],
   "source": [
    "df = pd.read_csv('data/us-new-york-avg-temp-1895-2018.csv')\n",
    "\n",
    "df['Anomaly'] = df['Value'] - df['Value'].mean()\n",
    "df = df.rename(columns={'Value': 'Temperature'})\n",
    "df['Date'] = df['Date'] // 100\n",
    "\n",
    "df.head()"
   ]
  },
  {
   "cell_type": "code",
   "execution_count": 14,
   "id": "75150cda",
   "metadata": {},
   "outputs": [
    {
     "data": {
      "text/plain": [
       "(93, 1)"
      ]
     },
     "execution_count": 14,
     "metadata": {},
     "output_type": "execute_result"
    }
   ],
   "source": [
    "x_train, x_test, y_train, y_test = train_test_split(\n",
    "    df['Date'].values.reshape(-1, 1), df['Temperature'], random_state=5\n",
    ")\n",
    "x_train.shape"
   ]
  },
  {
   "cell_type": "code",
   "execution_count": 33,
   "id": "c2ac100d",
   "metadata": {},
   "outputs": [
    {
     "name": "stdout",
     "output_type": "stream",
     "text": [
      "Actual value: 35.9 and predicted: 32.1\n",
      "Actual value: 40.3 and predicted: 31.9\n",
      "Actual value: 40.2 and predicted: 32.6\n",
      "Actual value: 31.2 and predicted: 32.2\n",
      "Actual value: 21.6 and predicted: 31.7\n",
      "Actual value: 34.0 and predicted: 32.0\n",
      "Actual value: 30.8 and predicted: 32.0\n"
     ]
    }
   ],
   "source": [
    "regression = LinearRegression()\n",
    "regression.fit(x_train, y_train)\n",
    "\n",
    "y_predicted = regression.predict(x_test)\n",
    "\n",
    "for predicted_value, actual_value in list(zip(y_predicted, y_test))[::5]:\n",
    "    print(f'Actual value: {actual_value} and predicted: {round(predicted_value, 1)}')"
   ]
  },
  {
   "cell_type": "code",
   "execution_count": 34,
   "id": "b76be3f8",
   "metadata": {},
   "outputs": [],
   "source": [
    "predict = lambda x: regression.coef_ * x + regression.intercept_"
   ]
  },
  {
   "cell_type": "code",
   "execution_count": 38,
   "id": "9bbaf282",
   "metadata": {},
   "outputs": [
    {
     "data": {
      "text/plain": [
       "(32.74, 31.47)"
      ]
     },
     "execution_count": 38,
     "metadata": {},
     "output_type": "execute_result"
    }
   ],
   "source": [
    "round(predict(2019)[0], 2), round(predict(1890)[0], 2)"
   ]
  },
  {
   "cell_type": "code",
   "execution_count": 53,
   "id": "5c5045aa",
   "metadata": {},
   "outputs": [
    {
     "data": {
      "image/png": "[encoded data removed]",
      "text/plain": [
       "<Figure size 432x288 with 1 Axes>"
      ]
     },
     "metadata": {
      "needs_background": "light"
     },
     "output_type": "display_data"
    }
   ],
   "source": [
    "axes = sns.scatterplot(\n",
    "    data=df,\n",
    "    x='Date',\n",
    "    y='Temperature',\n",
    "    hue='Temperature',\n",
    "    palette='winter',\n",
    "    legend=False\n",
    ")\n",
    "\n",
    "axes.set_ylim(10, 70)\n",
    "\n",
    "x = np.array([min(df['Date'].values), max(df['Date'].values)])\n",
    "y = predict(x)\n",
    "\n",
    "plt.plot(x, y, color='red')\n",
    "plt.show()"
   ]
  }
 ],
 "metadata": {
  "kernelspec": {
   "display_name": "Python 3",
   "language": "python",
   "name": "python3"
  },
  "language_info": {
   "codemirror_mode": {
    "name": "ipython",
    "version": 3
   },
   "file_extension": ".py",
   "mimetype": "text/x-python",
   "name": "python",
   "nbconvert_exporter": "python",
   "pygments_lexer": "ipython3",
   "version": "3.8.8"
  }
 },
 "nbformat": 4,
 "nbformat_minor": 5
}
