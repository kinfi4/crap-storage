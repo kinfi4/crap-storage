{
 "cells": [
  {
   "cell_type": "code",
   "execution_count": 1,
   "id": "72ea9933",
   "metadata": {},
   "outputs": [],
   "source": [
    "import sys\n",
    "import pickle\n",
    "\n",
    "import joblib\n",
    "import numpy as np\n",
    "from keras.models import load_model\n",
    "\n",
    "module_path = '/home/kinfi4/python/Propaganda-Analyzer/src/ETL'\n",
    "if module_path not in sys.path:\n",
    "    sys.path.append(module_path)\n",
    "\n",
    "from services.domain.text_preprocessor import TextPreprocessor\n",
    "from config.config import MAX_POST_LEN_IN_WORDS"
   ]
  },
  {
   "cell_type": "markdown",
   "id": "5468c296",
   "metadata": {},
   "source": [
    "# Load models"
   ]
  },
  {
   "cell_type": "code",
   "execution_count": 2,
   "id": "6154d5e4",
   "metadata": {},
   "outputs": [],
   "source": [
    "tokenizer = pickle.load(open('./trained-models/keras-tokenizer.pk', 'rb'))\n",
    "\n",
    "cnn_model = load_model('./trained-models/cnn-news-type-prediction.h5')\n",
    "lstm_model = load_model('./trained-models/lstm-news-type-prediction.h5')\n",
    "\n",
    "preprocessor = TextPreprocessor(\n",
    "    sklearn_vectorizer=vectorizer_loaded, \n",
    "    keras_tokenizer=tokenizer\n",
    ")"
   ]
  },
  {
   "cell_type": "code",
   "execution_count": 3,
   "id": "003e86e7",
   "metadata": {},
   "outputs": [],
   "source": [
    "def get_predicted_label(label_idx):\n",
    "    labels_indexes = {0: 'Economical', 1: 'Political', 2: 'Shelling', 3: 'Humanitarian'}\n",
    "    \n",
    "    return labels_indexes[label_idx]"
   ]
  },
  {
   "cell_type": "markdown",
   "id": "725b1869",
   "metadata": {},
   "source": [
    "# Predict using ML models"
   ]
  },
  {
   "cell_type": "code",
   "execution_count": 8,
   "id": "3554646a",
   "metadata": {},
   "outputs": [],
   "source": [
    "test_texts = [\n",
    "    'Российские банки отключили от swift',\n",
    "    'оккупанты обстреляли школу, более 10 детей погибли',\n",
    "    'макдональдс уходит с рынка России',\n",
    "    'Финляндия вступает в НАТО',\n",
    "    'Путин сказал, что победит в этой войне',\n",
    "    'Солдат с азовстали эвакуировали',\n",
    "    'США заморозили резервы центробанка России',\n",
    "    'Позиции войск РФ подверглись страшному обстрегу, более 100 окупантов мертво',\n",
    "    'После отступления росийских военных из Бучи там были найдены тела мирных жителей',\n",
    "    'Пленных солдат унижали, и вообще страх как пытали',\n",
    "    'Цель операции россии украине заключается не разделе страны части обеспечении гарантий собственной безопасности заявил песков интервью'\n",
    "]"
   ]
  },
  {
   "cell_type": "markdown",
   "id": "f2f2d33e",
   "metadata": {},
   "source": [
    "# Predict using NN models"
   ]
  },
  {
   "cell_type": "code",
   "execution_count": 10,
   "id": "65ba9604",
   "metadata": {},
   "outputs": [],
   "source": [
    "text_sequences = preprocessor.keras_tokenize_and_pad_text(\n",
    "    test_texts,\n",
    "    make_preprocessing=True,\n",
    "    max_words_number=MAX_POST_LEN_IN_WORDS,\n",
    "    padding='pre',\n",
    "    truncating='post',\n",
    ")"
   ]
  },
  {
   "cell_type": "code",
   "execution_count": 11,
   "id": "3dd01ee9",
   "metadata": {},
   "outputs": [
    {
     "name": "stdout",
     "output_type": "stream",
     "text": [
      "Economical -- Российские банки отключили от swift\n",
      "------------------------------\n",
      "Shelling -- оккупанты обстреляли школу, более 10 детей погибли\n",
      "------------------------------\n",
      "Economical -- макдональдс уходит с рынка России\n",
      "------------------------------\n",
      "Political -- Финляндия вступает в НАТО\n",
      "------------------------------\n",
      "CNN=Economical | LSTM=Political -- Путин сказал, что победит в этой войне\n",
      "------------------------------\n",
      "Humanitarian -- Солдат с азовстали эвакуировали\n",
      "------------------------------\n",
      "Economical -- США заморозили резервы центробанка России\n",
      "------------------------------\n",
      "CNN=Humanitarian | LSTM=Shelling -- Позиции войск РФ подверглись страшному обстрегу, более 100 окупантов мертво\n",
      "------------------------------\n",
      "CNN=Humanitarian | LSTM=Shelling -- После отступления росийских военных из Бучи там были найдены тела мирных жителей\n",
      "------------------------------\n",
      "CNN=Shelling | LSTM=Humanitarian -- Пленных солдат унижали, и вообще страх как пытали\n",
      "------------------------------\n",
      "Political -- Цель операции россии украине заключается не разделе страны части обеспечении гарантий собственной безопасности заявил песков интервью\n",
      "------------------------------\n"
     ]
    }
   ],
   "source": [
    "predicted_indexes_cnn = cnn_model.predict(text_sequences)\n",
    "predicted_indexes_lstm = lstm_model.predict(text_sequences)\n",
    "\n",
    "for cnn_result_vector, lstm_result_vector, text in zip(\n",
    "    predicted_indexes_cnn,\n",
    "    predicted_indexes_lstm,\n",
    "    test_texts\n",
    "):\n",
    "    cnn_label = get_predicted_label(cnn_result_vector.argmax())\n",
    "    lstm_label = get_predicted_label(lstm_result_vector.argmax())\n",
    "    \n",
    "    if cnn_label == lstm_label:\n",
    "        predicted_label = cnn_label\n",
    "    else:\n",
    "        cnn_prediction = f''\n",
    "        predicted_label = f'CNN={cnn_label} | LSTM={lstm_label}'\n",
    "    \n",
    "    print(f'{predicted_label} -- {text}')\n",
    "    print('-' * 30)"
   ]
  }
 ],
 "metadata": {
  "kernelspec": {
   "display_name": "Python 3",
   "language": "python",
   "name": "python3"
  },
  "language_info": {
   "codemirror_mode": {
    "name": "ipython",
    "version": 3
   },
   "file_extension": ".py",
   "mimetype": "text/x-python",
   "name": "python",
   "nbconvert_exporter": "python",
   "pygments_lexer": "ipython3",
   "version": "3.8.8"
  }
 },
 "nbformat": 4,
 "nbformat_minor": 5
}
