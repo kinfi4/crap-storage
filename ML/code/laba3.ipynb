{
 "cells": [
  {
   "cell_type": "code",
   "execution_count": 25,
   "id": "11afd69b",
   "metadata": {},
   "outputs": [],
   "source": [
    "import pandas as pd\n",
    "import seaborn as sns\n",
    "from scipy import stats\n",
    "\n",
    "pd.set_option('precision', 2)"
   ]
  },
  {
   "cell_type": "code",
   "execution_count": 26,
   "id": "3de1bfc5",
   "metadata": {},
   "outputs": [],
   "source": [
    "df = pd.read_csv('data/us-new-york-avg-temp-1895-2018.csv')"
   ]
  },
  {
   "cell_type": "code",
   "execution_count": 27,
   "id": "41a201b1",
   "metadata": {},
   "outputs": [
    {
     "data": {
      "text/html": [
       "<div>\n",
       "<style scoped>\n",
       "    .dataframe tbody tr th:only-of-type {\n",
       "        vertical-align: middle;\n",
       "    }\n",
       "\n",
       "    .dataframe tbody tr th {\n",
       "        vertical-align: top;\n",
       "    }\n",
       "\n",
       "    .dataframe thead th {\n",
       "        text-align: right;\n",
       "    }\n",
       "</style>\n",
       "<table border=\"1\" class=\"dataframe\">\n",
       "  <thead>\n",
       "    <tr style=\"text-align: right;\">\n",
       "      <th></th>\n",
       "      <th>Date</th>\n",
       "      <th>Value</th>\n",
       "    </tr>\n",
       "  </thead>\n",
       "  <tbody>\n",
       "    <tr>\n",
       "      <th>0</th>\n",
       "      <td>189501</td>\n",
       "      <td>29.4</td>\n",
       "    </tr>\n",
       "    <tr>\n",
       "      <th>1</th>\n",
       "      <td>189601</td>\n",
       "      <td>29.0</td>\n",
       "    </tr>\n",
       "    <tr>\n",
       "      <th>2</th>\n",
       "      <td>189701</td>\n",
       "      <td>29.8</td>\n",
       "    </tr>\n",
       "    <tr>\n",
       "      <th>3</th>\n",
       "      <td>189801</td>\n",
       "      <td>34.4</td>\n",
       "    </tr>\n",
       "    <tr>\n",
       "      <th>4</th>\n",
       "      <td>189901</td>\n",
       "      <td>30.3</td>\n",
       "    </tr>\n",
       "  </tbody>\n",
       "</table>\n",
       "</div>"
      ],
      "text/plain": [
       "     Date  Value\n",
       "0  189501   29.4\n",
       "1  189601   29.0\n",
       "2  189701   29.8\n",
       "3  189801   34.4\n",
       "4  189901   30.3"
      ]
     },
     "execution_count": 27,
     "metadata": {},
     "output_type": "execute_result"
    }
   ],
   "source": [
    "df.head()"
   ]
  },
  {
   "cell_type": "code",
   "execution_count": 28,
   "id": "13e9dec9",
   "metadata": {},
   "outputs": [],
   "source": [
    "df['Anomaly'] = df['Value'] - df['Value'].mean()"
   ]
  },
  {
   "cell_type": "code",
   "execution_count": 29,
   "id": "74ad963f",
   "metadata": {},
   "outputs": [],
   "source": [
    "df = df.rename(columns={'Value': 'Temperature'})"
   ]
  },
  {
   "cell_type": "code",
   "execution_count": 30,
   "id": "5c75627a",
   "metadata": {},
   "outputs": [
    {
     "data": {
      "text/html": [
       "<div>\n",
       "<style scoped>\n",
       "    .dataframe tbody tr th:only-of-type {\n",
       "        vertical-align: middle;\n",
       "    }\n",
       "\n",
       "    .dataframe tbody tr th {\n",
       "        vertical-align: top;\n",
       "    }\n",
       "\n",
       "    .dataframe thead th {\n",
       "        text-align: right;\n",
       "    }\n",
       "</style>\n",
       "<table border=\"1\" class=\"dataframe\">\n",
       "  <thead>\n",
       "    <tr style=\"text-align: right;\">\n",
       "      <th></th>\n",
       "      <th>Date</th>\n",
       "      <th>Temperature</th>\n",
       "      <th>Anomaly</th>\n",
       "    </tr>\n",
       "  </thead>\n",
       "  <tbody>\n",
       "    <tr>\n",
       "      <th>0</th>\n",
       "      <td>189501</td>\n",
       "      <td>29.4</td>\n",
       "      <td>-2.73</td>\n",
       "    </tr>\n",
       "    <tr>\n",
       "      <th>1</th>\n",
       "      <td>189601</td>\n",
       "      <td>29.0</td>\n",
       "      <td>-3.13</td>\n",
       "    </tr>\n",
       "    <tr>\n",
       "      <th>2</th>\n",
       "      <td>189701</td>\n",
       "      <td>29.8</td>\n",
       "      <td>-2.33</td>\n",
       "    </tr>\n",
       "    <tr>\n",
       "      <th>3</th>\n",
       "      <td>189801</td>\n",
       "      <td>34.4</td>\n",
       "      <td>2.27</td>\n",
       "    </tr>\n",
       "    <tr>\n",
       "      <th>4</th>\n",
       "      <td>189901</td>\n",
       "      <td>30.3</td>\n",
       "      <td>-1.83</td>\n",
       "    </tr>\n",
       "  </tbody>\n",
       "</table>\n",
       "</div>"
      ],
      "text/plain": [
       "     Date  Temperature  Anomaly\n",
       "0  189501         29.4    -2.73\n",
       "1  189601         29.0    -3.13\n",
       "2  189701         29.8    -2.33\n",
       "3  189801         34.4     2.27\n",
       "4  189901         30.3    -1.83"
      ]
     },
     "execution_count": 30,
     "metadata": {},
     "output_type": "execute_result"
    }
   ],
   "source": [
    "df.head()"
   ]
  },
  {
   "cell_type": "code",
   "execution_count": 31,
   "id": "0837198c",
   "metadata": {},
   "outputs": [
    {
     "data": {
      "text/plain": [
       "count    124.00\n",
       "mean      32.13\n",
       "std        4.45\n",
       "min       21.60\n",
       "25%       29.38\n",
       "50%       32.00\n",
       "75%       34.88\n",
       "max       43.30\n",
       "Name: Temperature, dtype: float64"
      ]
     },
     "execution_count": 31,
     "metadata": {},
     "output_type": "execute_result"
    }
   ],
   "source": [
    "df['Temperature'].describe()"
   ]
  },
  {
   "cell_type": "code",
   "execution_count": 32,
   "id": "d5418746",
   "metadata": {},
   "outputs": [],
   "source": [
    "df['Date'] = df['Date'] // 100"
   ]
  },
  {
   "cell_type": "code",
   "execution_count": 33,
   "id": "4285a38e",
   "metadata": {},
   "outputs": [
    {
     "data": {
      "text/html": [
       "<div>\n",
       "<style scoped>\n",
       "    .dataframe tbody tr th:only-of-type {\n",
       "        vertical-align: middle;\n",
       "    }\n",
       "\n",
       "    .dataframe tbody tr th {\n",
       "        vertical-align: top;\n",
       "    }\n",
       "\n",
       "    .dataframe thead th {\n",
       "        text-align: right;\n",
       "    }\n",
       "</style>\n",
       "<table border=\"1\" class=\"dataframe\">\n",
       "  <thead>\n",
       "    <tr style=\"text-align: right;\">\n",
       "      <th></th>\n",
       "      <th>Date</th>\n",
       "      <th>Temperature</th>\n",
       "      <th>Anomaly</th>\n",
       "    </tr>\n",
       "  </thead>\n",
       "  <tbody>\n",
       "    <tr>\n",
       "      <th>0</th>\n",
       "      <td>1895</td>\n",
       "      <td>29.4</td>\n",
       "      <td>-2.73</td>\n",
       "    </tr>\n",
       "    <tr>\n",
       "      <th>1</th>\n",
       "      <td>1896</td>\n",
       "      <td>29.0</td>\n",
       "      <td>-3.13</td>\n",
       "    </tr>\n",
       "    <tr>\n",
       "      <th>2</th>\n",
       "      <td>1897</td>\n",
       "      <td>29.8</td>\n",
       "      <td>-2.33</td>\n",
       "    </tr>\n",
       "    <tr>\n",
       "      <th>3</th>\n",
       "      <td>1898</td>\n",
       "      <td>34.4</td>\n",
       "      <td>2.27</td>\n",
       "    </tr>\n",
       "    <tr>\n",
       "      <th>4</th>\n",
       "      <td>1899</td>\n",
       "      <td>30.3</td>\n",
       "      <td>-1.83</td>\n",
       "    </tr>\n",
       "  </tbody>\n",
       "</table>\n",
       "</div>"
      ],
      "text/plain": [
       "   Date  Temperature  Anomaly\n",
       "0  1895         29.4    -2.73\n",
       "1  1896         29.0    -3.13\n",
       "2  1897         29.8    -2.33\n",
       "3  1898         34.4     2.27\n",
       "4  1899         30.3    -1.83"
      ]
     },
     "execution_count": 33,
     "metadata": {},
     "output_type": "execute_result"
    }
   ],
   "source": [
    "df.head()"
   ]
  },
  {
   "cell_type": "code",
   "execution_count": 34,
   "id": "404bcdb6",
   "metadata": {},
   "outputs": [],
   "source": [
    "regression = stats.linregress(df['Date'], df['Temperature'])"
   ]
  },
  {
   "cell_type": "code",
   "execution_count": 35,
   "id": "e2373314",
   "metadata": {},
   "outputs": [
    {
     "data": {
      "text/plain": [
       "(0.0143609756097561, 4.03178347757671)"
      ]
     },
     "execution_count": 35,
     "metadata": {},
     "output_type": "execute_result"
    }
   ],
   "source": [
    "regression.slope, regression.intercept"
   ]
  },
  {
   "cell_type": "code",
   "execution_count": 36,
   "id": "aab9bdf4",
   "metadata": {},
   "outputs": [],
   "source": [
    "years_to_predict = [1890, 2019, 2020, 2021]\n",
    "\n",
    "predictions = [regression.slope * year + regression.intercept for year in years_to_predict]"
   ]
  },
  {
   "cell_type": "code",
   "execution_count": 37,
   "id": "5b4d1b9e",
   "metadata": {},
   "outputs": [
    {
     "data": {
      "text/plain": [
       "[31.174027380015737, 33.02659323367428, 33.04095420928403, 33.055315184893786]"
      ]
     },
     "execution_count": 37,
     "metadata": {},
     "output_type": "execute_result"
    }
   ],
   "source": [
    "predictions"
   ]
  },
  {
   "cell_type": "code",
   "execution_count": 38,
   "id": "748c768f",
   "metadata": {},
   "outputs": [],
   "source": [
    "sns.set_style('whitegrid')"
   ]
  },
  {
   "cell_type": "code",
   "execution_count": 39,
   "id": "ccffda6c",
   "metadata": {},
   "outputs": [
    {
     "data": {
      "image/png": "[encoded data removed]",
      "text/plain": [
       "<Figure size 432x288 with 1 Axes>"
      ]
     },
     "metadata": {},
     "output_type": "display_data"
    }
   ],
   "source": [
    "sns.regplot(x=df['Date'], y=df['Temperature']).set_ylim(20, 60)\n",
    "None"
   ]
  },
  {
   "cell_type": "markdown",
   "id": "c403d081",
   "metadata": {},
   "source": [
    "Predicted temperature for 2019, 2020, 2021 is 33.026, 33.04 33.055\n",
    "The real was 32.6°F, 39.2°F 34.8°F\n",
    "\n",
    "Lets count MSE"
   ]
  },
  {
   "cell_type": "code",
   "execution_count": 40,
   "id": "7ede9cdf",
   "metadata": {},
   "outputs": [],
   "source": [
    "future_predictions = predictions[1:]\n",
    "real_temperature = [32.6, 39.2, 34.8]"
   ]
  },
  {
   "cell_type": "code",
   "execution_count": 41,
   "id": "be4c64f0",
   "metadata": {},
   "outputs": [],
   "source": [
    "difference = [real - predicted for real, predicted in zip(real_temperature, future_predictions)]\n",
    "square_difference = [pow(diff, 2) for diff in difference]"
   ]
  },
  {
   "cell_type": "code",
   "execution_count": 42,
   "id": "3c94f2b4",
   "metadata": {},
   "outputs": [
    {
     "data": {
      "text/plain": [
       "13.719917314405"
      ]
     },
     "execution_count": 42,
     "metadata": {},
     "output_type": "execute_result"
    }
   ],
   "source": [
    "sum(square_difference) / len(square_difference)"
   ]
  }
 ],
 "metadata": {
  "kernelspec": {
   "display_name": "Python 3",
   "language": "python",
   "name": "python3"
  },
  "language_info": {
   "codemirror_mode": {
    "name": "ipython",
    "version": 3
   },
   "file_extension": ".py",
   "mimetype": "text/x-python",
   "name": "python",
   "nbconvert_exporter": "python",
   "pygments_lexer": "ipython3",
   "version": "3.8.8"
  }
 },
 "nbformat": 4,
 "nbformat_minor": 5
}
