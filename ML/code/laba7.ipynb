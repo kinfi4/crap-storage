{
 "cells": [
  {
   "cell_type": "code",
   "execution_count": 1,
   "id": "b5c8d377",
   "metadata": {},
   "outputs": [],
   "source": [
    "import sys\n",
    "import pickle\n",
    "\n",
    "import joblib\n",
    "import pandas as pd\n",
    "import numpy as np\n",
    "import matplotlib.pyplot as plt\n",
    "from keras.models import Sequential\n",
    "from keras.preprocessing.text import Tokenizer\n",
    "from keras.preprocessing.sequence import pad_sequences\n",
    "from keras import layers\n",
    "from keras.utils import to_categorical\n",
    "from keras.callbacks import ModelCheckpoint\n",
    "from sklearn.model_selection import train_test_split\n",
    "\n",
    "module_path = '/home/kinfi4/python/Propaganda-Analyzer/src/ETL'\n",
    "if module_path not in sys.path:\n",
    "    sys.path.append(module_path)\n",
    "\n",
    "from services.domain.text_preprocessor import TextPreprocessor\n",
    "from config.config import MAX_POST_LEN_IN_WORDS"
   ]
  },
  {
   "cell_type": "code",
   "execution_count": 2,
   "id": "a5d6fb1d",
   "metadata": {},
   "outputs": [],
   "source": [
    "NUMBER_OF_WORDS_TO_TOKENIZE = 20_000"
   ]
  },
  {
   "cell_type": "code",
   "execution_count": 3,
   "id": "326987b0",
   "metadata": {},
   "outputs": [],
   "source": [
    "def plot_hisory(history_dict: dict):\n",
    "    plt.plot(history_dict['accuracy'])\n",
    "    plt.plot(history_dict['val_accuracy'])\n",
    "    plt.title('model accuracy')\n",
    "    plt.ylabel('accuracy')\n",
    "    plt.xlabel('epoch')\n",
    "    plt.legend(['train', 'test'], loc='upper left')\n",
    "    plt.show()"
   ]
  },
  {
   "cell_type": "code",
   "execution_count": 4,
   "id": "78dce461",
   "metadata": {},
   "outputs": [],
   "source": [
    "def get_model_checkpoint_callback(filepath):\n",
    "    return ModelCheckpoint(\n",
    "        filepath,\n",
    "        save_best_only=True,\n",
    "        monitor='val_accuracy',\n",
    "        verbose=1\n",
    "    )"
   ]
  },
  {
   "cell_type": "code",
   "execution_count": 5,
   "id": "1528d9de",
   "metadata": {},
   "outputs": [],
   "source": [
    "preprocessor = TextPreprocessor()\n",
    "\n",
    "df = pd.read_csv(\n",
    "    '../data/training-data/news-for-training.csv',\n",
    "    names=['channel', 'text', 'date', 'type', 'sent']\n",
    ")\n",
    "\n",
    "df['text'] = df['text'].apply(preprocessor.preprocess_and_lemmatize)"
   ]
  },
  {
   "cell_type": "code",
   "execution_count": 6,
   "id": "86c8593a",
   "metadata": {},
   "outputs": [
    {
     "data": {
      "text/html": [
       "<div>\n",
       "<style scoped>\n",
       "    .dataframe tbody tr th:only-of-type {\n",
       "        vertical-align: middle;\n",
       "    }\n",
       "\n",
       "    .dataframe tbody tr th {\n",
       "        vertical-align: top;\n",
       "    }\n",
       "\n",
       "    .dataframe thead th {\n",
       "        text-align: right;\n",
       "    }\n",
       "</style>\n",
       "<table border=\"1\" class=\"dataframe\">\n",
       "  <thead>\n",
       "    <tr style=\"text-align: right;\">\n",
       "      <th></th>\n",
       "      <th>channel</th>\n",
       "      <th>text</th>\n",
       "      <th>date</th>\n",
       "      <th>type</th>\n",
       "      <th>sent</th>\n",
       "    </tr>\n",
       "  </thead>\n",
       "  <tbody>\n",
       "    <tr>\n",
       "      <th>0</th>\n",
       "      <td>раньше всех. ну почти.</td>\n",
       "      <td>президент эстония алар карис признать удаться ...</td>\n",
       "      <td>2022-05-17 18:20:01</td>\n",
       "      <td>economic</td>\n",
       "      <td>-1.0</td>\n",
       "    </tr>\n",
       "    <tr>\n",
       "      <th>1</th>\n",
       "      <td>раньше всех. ну почти.</td>\n",
       "      <td>россиянин февраль стать тратить раз новость ин...</td>\n",
       "      <td>2022-05-17 18:11:38</td>\n",
       "      <td>political</td>\n",
       "      <td>-1.0</td>\n",
       "    </tr>\n",
       "    <tr>\n",
       "      <th>2</th>\n",
       "      <td>раньше всех. ну почти.</td>\n",
       "      <td>суд приговорить эксполковник захарченко совоку...</td>\n",
       "      <td>2022-05-17 17:53:12</td>\n",
       "      <td>shelling</td>\n",
       "      <td>-1.0</td>\n",
       "    </tr>\n",
       "    <tr>\n",
       "      <th>3</th>\n",
       "      <td>раньше всех. ну почти.</td>\n",
       "      <td>евросоюз допустить украина закончиться оружие ...</td>\n",
       "      <td>2022-05-17 17:44:46</td>\n",
       "      <td>political</td>\n",
       "      <td>-1.0</td>\n",
       "    </tr>\n",
       "    <tr>\n",
       "      <th>4</th>\n",
       "      <td>раньше всех. ну почти.</td>\n",
       "      <td>сша активно привлекать участие боевой действие...</td>\n",
       "      <td>2022-05-17 17:43:05</td>\n",
       "      <td>political</td>\n",
       "      <td>-1.0</td>\n",
       "    </tr>\n",
       "  </tbody>\n",
       "</table>\n",
       "</div>"
      ],
      "text/plain": [
       "                  channel                                               text  \\\n",
       "0  раньше всех. ну почти.  президент эстония алар карис признать удаться ...   \n",
       "1  раньше всех. ну почти.  россиянин февраль стать тратить раз новость ин...   \n",
       "2  раньше всех. ну почти.  суд приговорить эксполковник захарченко совоку...   \n",
       "3  раньше всех. ну почти.  евросоюз допустить украина закончиться оружие ...   \n",
       "4  раньше всех. ну почти.  сша активно привлекать участие боевой действие...   \n",
       "\n",
       "                  date       type  sent  \n",
       "0  2022-05-17 18:20:01   economic  -1.0  \n",
       "1  2022-05-17 18:11:38  political  -1.0  \n",
       "2  2022-05-17 17:53:12   shelling  -1.0  \n",
       "3  2022-05-17 17:44:46  political  -1.0  \n",
       "4  2022-05-17 17:43:05  political  -1.0  "
      ]
     },
     "execution_count": 6,
     "metadata": {},
     "output_type": "execute_result"
    }
   ],
   "source": [
    "df.head()"
   ]
  },
  {
   "cell_type": "code",
   "execution_count": 7,
   "id": "50b623f8",
   "metadata": {},
   "outputs": [
    {
     "data": {
      "text/plain": [
       "political       579\n",
       "shelling        376\n",
       "economic        298\n",
       "humanitarian    271\n",
       "Name: type, dtype: int64"
      ]
     },
     "execution_count": 7,
     "metadata": {},
     "output_type": "execute_result"
    }
   ],
   "source": [
    "df['type'].value_counts()"
   ]
  },
  {
   "cell_type": "code",
   "execution_count": 8,
   "id": "6970483a",
   "metadata": {},
   "outputs": [],
   "source": [
    "tokenizer = Tokenizer(num_words=NUMBER_OF_WORDS_TO_TOKENIZE)\n",
    "tokenizer.fit_on_texts(df['text'])\n",
    "\n",
    "preprocessor = TextPreprocessor(keras_tokenizer=tokenizer)"
   ]
  },
  {
   "cell_type": "code",
   "execution_count": 9,
   "id": "6896c12e",
   "metadata": {},
   "outputs": [],
   "source": [
    "pickle.dump(tokenizer, open('./trained-models/keras-tokenizer.pk', 'wb'))"
   ]
  },
  {
   "cell_type": "code",
   "execution_count": 10,
   "id": "d0d75b79",
   "metadata": {},
   "outputs": [],
   "source": [
    "text_sequences = preprocessor.keras_tokenize_and_pad_text(\n",
    "    df['text'],\n",
    "    make_preprocessing=True,\n",
    "    max_words_number=MAX_POST_LEN_IN_WORDS,\n",
    "    padding='pre',\n",
    "    truncating='post',\n",
    ")"
   ]
  },
  {
   "cell_type": "code",
   "execution_count": 11,
   "id": "9ea3365b",
   "metadata": {},
   "outputs": [],
   "source": [
    "df['type'] = pd.factorize(df['type'])[0]"
   ]
  },
  {
   "cell_type": "code",
   "execution_count": 12,
   "id": "87045ee7",
   "metadata": {},
   "outputs": [],
   "source": [
    "categorical_types = to_categorical(df['type'])"
   ]
  },
  {
   "cell_type": "code",
   "execution_count": 13,
   "id": "63d4754e",
   "metadata": {},
   "outputs": [],
   "source": [
    "x_train, x_test, y_train, y_test = train_test_split(\n",
    "    text_sequences,\n",
    "    categorical_types,\n",
    "    test_size=0.2\n",
    ")"
   ]
  },
  {
   "cell_type": "markdown",
   "id": "aab39283",
   "metadata": {},
   "source": [
    "# Building a LSTM model"
   ]
  },
  {
   "cell_type": "code",
   "execution_count": 14,
   "id": "e44b5029",
   "metadata": {},
   "outputs": [],
   "source": [
    "lstm_model = Sequential([\n",
    "    layers.Embedding(NUMBER_OF_WORDS_TO_TOKENIZE, 16, input_length=MAX_POST_LEN_IN_WORDS),\n",
    "    layers.LSTM(32, recurrent_dropout=0.2),\n",
    "    layers.Dense(4, activation='softmax')\n",
    "])"
   ]
  },
  {
   "cell_type": "code",
   "execution_count": 15,
   "id": "69ce6ee9",
   "metadata": {},
   "outputs": [],
   "source": [
    "lstm_model.compile('adam', loss='categorical_crossentropy', metrics=['accuracy'])"
   ]
  },
  {
   "cell_type": "code",
   "execution_count": 16,
   "id": "b9a6ec05",
   "metadata": {},
   "outputs": [
    {
     "name": "stdout",
     "output_type": "stream",
     "text": [
      "Epoch 1/15\n",
      "35/35 [==============================] - 9s 141ms/step - loss: 1.3720 - accuracy: 0.3651 - val_loss: 1.3561 - val_accuracy: 0.3279\n",
      "\n",
      "Epoch 00001: val_accuracy improved from -inf to 0.32787, saving model to ./trained-models/lstm-news-type-prediction.h5\n",
      "Epoch 2/15\n",
      "35/35 [==============================] - 3s 94ms/step - loss: 1.3064 - accuracy: 0.3711 - val_loss: 1.2575 - val_accuracy: 0.4180\n",
      "\n",
      "Epoch 00002: val_accuracy improved from 0.32787 to 0.41803, saving model to ./trained-models/lstm-news-type-prediction.h5\n",
      "Epoch 3/15\n",
      "35/35 [==============================] - 5s 138ms/step - loss: 1.0567 - accuracy: 0.5965 - val_loss: 1.0748 - val_accuracy: 0.6148\n",
      "\n",
      "Epoch 00003: val_accuracy improved from 0.41803 to 0.61475, saving model to ./trained-models/lstm-news-type-prediction.h5\n",
      "Epoch 4/15\n",
      "35/35 [==============================] - 7s 197ms/step - loss: 0.7569 - accuracy: 0.7418 - val_loss: 0.9132 - val_accuracy: 0.6803\n",
      "\n",
      "Epoch 00004: val_accuracy improved from 0.61475 to 0.68033, saving model to ./trained-models/lstm-news-type-prediction.h5\n",
      "Epoch 5/15\n",
      "35/35 [==============================] - 6s 161ms/step - loss: 0.5205 - accuracy: 0.8051 - val_loss: 0.8830 - val_accuracy: 0.6475\n",
      "\n",
      "Epoch 00005: val_accuracy did not improve from 0.68033\n",
      "Epoch 6/15\n",
      "35/35 [==============================] - 9s 257ms/step - loss: 0.4357 - accuracy: 0.8003 - val_loss: 0.8873 - val_accuracy: 0.6639\n",
      "\n",
      "Epoch 00006: val_accuracy did not improve from 0.68033\n",
      "Epoch 7/15\n",
      "35/35 [==============================] - 8s 223ms/step - loss: 0.3548 - accuracy: 0.8621 - val_loss: 1.0562 - val_accuracy: 0.7049\n",
      "\n",
      "Epoch 00007: val_accuracy improved from 0.68033 to 0.70492, saving model to ./trained-models/lstm-news-type-prediction.h5\n",
      "Epoch 8/15\n",
      "35/35 [==============================] - 7s 202ms/step - loss: 0.2761 - accuracy: 0.9219 - val_loss: 0.9183 - val_accuracy: 0.7213\n",
      "\n",
      "Epoch 00008: val_accuracy improved from 0.70492 to 0.72131, saving model to ./trained-models/lstm-news-type-prediction.h5\n",
      "Epoch 9/15\n",
      "35/35 [==============================] - 13s 359ms/step - loss: 0.1882 - accuracy: 0.9605 - val_loss: 0.8006 - val_accuracy: 0.8033\n",
      "\n",
      "Epoch 00009: val_accuracy improved from 0.72131 to 0.80328, saving model to ./trained-models/lstm-news-type-prediction.h5\n",
      "Epoch 10/15\n",
      "35/35 [==============================] - 10s 284ms/step - loss: 0.1398 - accuracy: 0.9769 - val_loss: 0.7273 - val_accuracy: 0.7705\n",
      "\n",
      "Epoch 00010: val_accuracy did not improve from 0.80328\n",
      "Epoch 11/15\n",
      "35/35 [==============================] - 9s 251ms/step - loss: 0.1020 - accuracy: 0.9746 - val_loss: 0.7238 - val_accuracy: 0.7787\n",
      "\n",
      "Epoch 00011: val_accuracy did not improve from 0.80328\n",
      "Epoch 12/15\n",
      "35/35 [==============================] - 8s 236ms/step - loss: 0.0841 - accuracy: 0.9839 - val_loss: 0.8449 - val_accuracy: 0.7869\n",
      "\n",
      "Epoch 00012: val_accuracy did not improve from 0.80328\n",
      "Epoch 13/15\n",
      "35/35 [==============================] - 8s 232ms/step - loss: 0.0633 - accuracy: 0.9864 - val_loss: 0.8257 - val_accuracy: 0.7705\n",
      "\n",
      "Epoch 00013: val_accuracy did not improve from 0.80328\n",
      "Epoch 14/15\n",
      "35/35 [==============================] - 7s 192ms/step - loss: 0.0628 - accuracy: 0.9862 - val_loss: 0.8761 - val_accuracy: 0.7951\n",
      "\n",
      "Epoch 00014: val_accuracy did not improve from 0.80328\n",
      "Epoch 15/15\n",
      "35/35 [==============================] - 6s 175ms/step - loss: 0.0415 - accuracy: 0.9936 - val_loss: 0.8285 - val_accuracy: 0.7787\n",
      "\n",
      "Epoch 00015: val_accuracy did not improve from 0.80328\n"
     ]
    }
   ],
   "source": [
    "save_callback = get_model_checkpoint_callback('./trained-models/lstm-news-type-prediction.h5')\n",
    "history = lstm_model.fit(\n",
    "    x=x_train,\n",
    "    y=y_train,\n",
    "    epochs=15,\n",
    "    batch_size=32,\n",
    "    validation_split=0.1,\n",
    "    callbacks=[save_callback]\n",
    ")"
   ]
  },
  {
   "cell_type": "code",
   "execution_count": 17,
   "id": "b0da03bf",
   "metadata": {},
   "outputs": [
    {
     "name": "stdout",
     "output_type": "stream",
     "text": [
      "The accuracy of the model = 0.748\n"
     ]
    }
   ],
   "source": [
    "score = lstm_model.evaluate(x_test, y_test, verbose=0)\n",
    "\n",
    "print(f'The accuracy of the model = {round(score[1], 3)}')"
   ]
  },
  {
   "cell_type": "code",
   "execution_count": 18,
   "id": "7e56fe9c",
   "metadata": {},
   "outputs": [
    {
     "data": {
      "image/png": "[encoded data removed]",
      "text/plain": [
       "<Figure size 432x288 with 1 Axes>"
      ]
     },
     "metadata": {
      "needs_background": "light"
     },
     "output_type": "display_data"
    }
   ],
   "source": [
    "plot_hisory(history.history)"
   ]
  },
  {
   "cell_type": "markdown",
   "id": "4a4e9c26",
   "metadata": {},
   "source": [
    "# Building CNN model"
   ]
  },
  {
   "cell_type": "code",
   "execution_count": 24,
   "id": "53e73dbf",
   "metadata": {},
   "outputs": [],
   "source": [
    "cnn_model = Sequential([\n",
    "    layers.Embedding(NUMBER_OF_WORDS_TO_TOKENIZE, 8, input_length=MAX_POST_LEN_IN_WORDS),\n",
    "    layers.Conv1D(250, 4, activation='relu', padding='same'),\n",
    "    layers.GlobalMaxPool1D(),\n",
    "    layers.Dense(128, activation='relu'),\n",
    "    layers.Dense(4, activation='softmax')\n",
    "])"
   ]
  },
  {
   "cell_type": "code",
   "execution_count": 25,
   "id": "728efb59",
   "metadata": {},
   "outputs": [],
   "source": [
    "cnn_model.compile('adam', loss='categorical_crossentropy', metrics=['accuracy'])"
   ]
  },
  {
   "cell_type": "code",
   "execution_count": 26,
   "id": "906fdd6a",
   "metadata": {},
   "outputs": [
    {
     "name": "stdout",
     "output_type": "stream",
     "text": [
      "Epoch 1/15\n",
      "35/35 [==============================] - 3s 62ms/step - loss: 1.3609 - accuracy: 0.3441 - val_loss: 1.3681 - val_accuracy: 0.3279\n",
      "\n",
      "Epoch 00001: val_accuracy improved from -inf to 0.32787, saving model to ./trained-models/cnn-news-type-prediction.h5\n",
      "Epoch 2/15\n",
      "35/35 [==============================] - 1s 39ms/step - loss: 1.2926 - accuracy: 0.3839 - val_loss: 1.2766 - val_accuracy: 0.3279\n",
      "\n",
      "Epoch 00002: val_accuracy did not improve from 0.32787\n",
      "Epoch 3/15\n",
      "35/35 [==============================] - 1s 39ms/step - loss: 1.1294 - accuracy: 0.4434 - val_loss: 1.2002 - val_accuracy: 0.4754\n",
      "\n",
      "Epoch 00003: val_accuracy improved from 0.32787 to 0.47541, saving model to ./trained-models/cnn-news-type-prediction.h5\n",
      "Epoch 4/15\n",
      "35/35 [==============================] - 2s 42ms/step - loss: 0.9281 - accuracy: 0.5941 - val_loss: 1.1483 - val_accuracy: 0.4918\n",
      "\n",
      "Epoch 00004: val_accuracy improved from 0.47541 to 0.49180, saving model to ./trained-models/cnn-news-type-prediction.h5\n",
      "Epoch 5/15\n",
      "35/35 [==============================] - 1s 41ms/step - loss: 0.7588 - accuracy: 0.6028 - val_loss: 1.0896 - val_accuracy: 0.6393\n",
      "\n",
      "Epoch 00005: val_accuracy improved from 0.49180 to 0.63934, saving model to ./trained-models/cnn-news-type-prediction.h5\n",
      "Epoch 6/15\n",
      "35/35 [==============================] - 1s 34ms/step - loss: 0.4553 - accuracy: 0.8171 - val_loss: 1.0603 - val_accuracy: 0.6721\n",
      "\n",
      "Epoch 00006: val_accuracy improved from 0.63934 to 0.67213, saving model to ./trained-models/cnn-news-type-prediction.h5\n",
      "Epoch 7/15\n",
      "35/35 [==============================] - 2s 55ms/step - loss: 0.2727 - accuracy: 0.9152 - val_loss: 1.1478 - val_accuracy: 0.7049\n",
      "\n",
      "Epoch 00007: val_accuracy improved from 0.67213 to 0.70492, saving model to ./trained-models/cnn-news-type-prediction.h5\n",
      "Epoch 8/15\n",
      "35/35 [==============================] - 2s 48ms/step - loss: 0.1308 - accuracy: 0.9746 - val_loss: 1.2661 - val_accuracy: 0.6885\n",
      "\n",
      "Epoch 00008: val_accuracy did not improve from 0.70492\n",
      "Epoch 9/15\n",
      "35/35 [==============================] - 2s 65ms/step - loss: 0.0487 - accuracy: 0.9961 - val_loss: 1.4084 - val_accuracy: 0.6967\n",
      "\n",
      "Epoch 00009: val_accuracy did not improve from 0.70492\n",
      "Epoch 10/15\n",
      "35/35 [==============================] - 2s 53ms/step - loss: 0.0192 - accuracy: 0.9995 - val_loss: 1.4602 - val_accuracy: 0.7049\n",
      "\n",
      "Epoch 00010: val_accuracy did not improve from 0.70492\n",
      "Epoch 11/15\n",
      "35/35 [==============================] - 2s 70ms/step - loss: 0.0113 - accuracy: 0.9996 - val_loss: 1.5168 - val_accuracy: 0.7049\n",
      "\n",
      "Epoch 00011: val_accuracy did not improve from 0.70492\n",
      "Epoch 12/15\n",
      "35/35 [==============================] - 3s 74ms/step - loss: 0.0148 - accuracy: 0.9977 - val_loss: 1.5247 - val_accuracy: 0.7131\n",
      "\n",
      "Epoch 00012: val_accuracy improved from 0.70492 to 0.71311, saving model to ./trained-models/cnn-news-type-prediction.h5\n",
      "Epoch 13/15\n",
      "35/35 [==============================] - 2s 59ms/step - loss: 0.0057 - accuracy: 0.9990 - val_loss: 1.5844 - val_accuracy: 0.7049\n",
      "\n",
      "Epoch 00013: val_accuracy did not improve from 0.71311\n",
      "Epoch 14/15\n",
      "35/35 [==============================] - 3s 87ms/step - loss: 0.0031 - accuracy: 1.0000 - val_loss: 1.6137 - val_accuracy: 0.7213\n",
      "\n",
      "Epoch 00014: val_accuracy improved from 0.71311 to 0.72131, saving model to ./trained-models/cnn-news-type-prediction.h5\n",
      "Epoch 15/15\n",
      "35/35 [==============================] - 3s 78ms/step - loss: 0.0028 - accuracy: 1.0000 - val_loss: 1.6393 - val_accuracy: 0.7295\n",
      "\n",
      "Epoch 00015: val_accuracy improved from 0.72131 to 0.72951, saving model to ./trained-models/cnn-news-type-prediction.h5\n"
     ]
    }
   ],
   "source": [
    "save_callback = get_model_checkpoint_callback('./trained-models/cnn-news-type-prediction.h5')\n",
    "history = cnn_model.fit(\n",
    "    x=x_train,\n",
    "    y=y_train,\n",
    "    epochs=15,\n",
    "    batch_size=32,\n",
    "    validation_split=0.1,\n",
    "    callbacks=[save_callback]\n",
    ")"
   ]
  },
  {
   "cell_type": "code",
   "execution_count": 27,
   "id": "1c723ddb",
   "metadata": {},
   "outputs": [
    {
     "name": "stdout",
     "output_type": "stream",
     "text": [
      "The accuracy of the model = 0.715\n"
     ]
    }
   ],
   "source": [
    "score = cnn_model.evaluate(x_test, y_test, verbose=0)\n",
    "\n",
    "print(f'The accuracy of the model = {round(score[1], 3)}')"
   ]
  },
  {
   "cell_type": "code",
   "execution_count": 28,
   "id": "8d89be37",
   "metadata": {},
   "outputs": [
    {
     "data": {
      "image/png": "[encoded data removed]",
      "text/plain": [
       "<Figure size 432x288 with 1 Axes>"
      ]
     },
     "metadata": {
      "needs_background": "light"
     },
     "output_type": "display_data"
    }
   ],
   "source": [
    "plot_hisory(history.history)"
   ]
  }
 ],
 "metadata": {
  "kernelspec": {
   "display_name": "Python 3",
   "language": "python",
   "name": "python3"
  },
  "language_info": {
   "codemirror_mode": {
    "name": "ipython",
    "version": 3
   },
   "file_extension": ".py",
   "mimetype": "text/x-python",
   "name": "python",
   "nbconvert_exporter": "python",
   "pygments_lexer": "ipython3",
   "version": "3.8.8"
  }
 },
 "nbformat": 4,
 "nbformat_minor": 5
}
