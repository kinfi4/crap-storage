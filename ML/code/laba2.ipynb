{
 "cells": [
  {
   "cell_type": "code",
   "execution_count": 1,
   "id": "6b2afac2",
   "metadata": {},
   "outputs": [],
   "source": [
    "import pandas as pd\n",
    "import matplotlib.pyplot as plt\n",
    "\n",
    "pd.set_option('precision', 2)"
   ]
  },
  {
   "cell_type": "code",
   "execution_count": 2,
   "id": "20239319",
   "metadata": {},
   "outputs": [],
   "source": [
    "plt.rcParams['figure.figsize'] = [30, 10]\n",
    "plt.rcParams.update({'font.size': 25})\n",
    "plt.rcParams.update({'xtick.color': 'white'})"
   ]
  },
  {
   "cell_type": "markdown",
   "id": "a0997a84",
   "metadata": {},
   "source": [
    "## Laba 1 solution with pandas"
   ]
  },
  {
   "cell_type": "code",
   "execution_count": 3,
   "id": "18c4b7ea",
   "metadata": {},
   "outputs": [],
   "source": [
    "df = pd.read_csv('data/GDP by Country in 2017.csv').rename(columns={'GDP(in US$)': 'gdp'})"
   ]
  },
  {
   "cell_type": "code",
   "execution_count": 5,
   "id": "df93459f",
   "metadata": {},
   "outputs": [],
   "source": [
    "df['gdp_billions'] = (df['gdp'] // 1_000_000_000).round()"
   ]
  },
  {
   "cell_type": "code",
   "execution_count": 6,
   "id": "ae813eb4",
   "metadata": {},
   "outputs": [
    {
     "name": "stdout",
     "output_type": "stream",
     "text": [
      "Median of GDP in 2017 was: 37353276059.0\n",
      "Mean of GDP in 2017 was: 421023956456.77246\n"
     ]
    }
   ],
   "source": [
    "print(f'Median of GDP in 2017 was:', df['gdp'].median())\n",
    "print(f'Mean of GDP in 2017 was:', df['gdp'].mean())"
   ]
  },
  {
   "cell_type": "code",
   "execution_count": 7,
   "id": "e69a593f",
   "metadata": {},
   "outputs": [
    {
     "name": "stdout",
     "output_type": "stream",
     "text": [
      "Mode of GDP in 2017 was: 1 billion\n"
     ]
    }
   ],
   "source": [
    "print(f'Mode of GDP in 2017 was:', df['gdp_billions'].mode()[0], 'billion')"
   ]
  },
  {
   "cell_type": "code",
   "execution_count": 9,
   "id": "dccd0c17",
   "metadata": {},
   "outputs": [
    {
     "name": "stdout",
     "output_type": "stream",
     "text": [
      "Dispersion of GDP in 2017 was: 3.0954919279828003e+24\n",
      "Standard diviation of GDP in 2017 was: 1759401013976.8591\n"
     ]
    }
   ],
   "source": [
    "print(f'Dispersion of GDP in 2017 was:', df['gdp'].var())\n",
    "print(f'Standard diviation of GDP in 2017 was:', df['gdp'].std())"
   ]
  },
  {
   "cell_type": "code",
   "execution_count": 12,
   "id": "6dde695f",
   "metadata": {},
   "outputs": [
    {
     "data": {
      "image/png": "[encoded data removed]",
      "text/plain": [
       "<Figure size 2160x720 with 1 Axes>"
      ]
     },
     "metadata": {},
     "output_type": "display_data"
    }
   ],
   "source": [
    "df['gdp_billions'].hist(bins=50)\n",
    "None"
   ]
  },
  {
   "cell_type": "markdown",
   "id": "58633b1c",
   "metadata": {},
   "source": [
    "# Titanic analysis"
   ]
  },
  {
   "cell_type": "code",
   "execution_count": 2,
   "id": "e0030b4c",
   "metadata": {},
   "outputs": [],
   "source": [
    "df = pd.read_csv('https://vincentarelbundock.github.io/Rdatasets/csv/carData/TitanicSurvival.csv')"
   ]
  },
  {
   "cell_type": "code",
   "execution_count": 3,
   "id": "ca6794b3",
   "metadata": {},
   "outputs": [
    {
     "data": {
      "text/html": [
       "<div>\n",
       "<style scoped>\n",
       "    .dataframe tbody tr th:only-of-type {\n",
       "        vertical-align: middle;\n",
       "    }\n",
       "\n",
       "    .dataframe tbody tr th {\n",
       "        vertical-align: top;\n",
       "    }\n",
       "\n",
       "    .dataframe thead th {\n",
       "        text-align: right;\n",
       "    }\n",
       "</style>\n",
       "<table border=\"1\" class=\"dataframe\">\n",
       "  <thead>\n",
       "    <tr style=\"text-align: right;\">\n",
       "      <th></th>\n",
       "      <th>Unnamed: 0</th>\n",
       "      <th>survived</th>\n",
       "      <th>sex</th>\n",
       "      <th>age</th>\n",
       "      <th>passengerClass</th>\n",
       "    </tr>\n",
       "  </thead>\n",
       "  <tbody>\n",
       "    <tr>\n",
       "      <th>0</th>\n",
       "      <td>Allen, Miss. Elisabeth Walton</td>\n",
       "      <td>yes</td>\n",
       "      <td>female</td>\n",
       "      <td>29.00</td>\n",
       "      <td>1st</td>\n",
       "    </tr>\n",
       "    <tr>\n",
       "      <th>1</th>\n",
       "      <td>Allison, Master. Hudson Trevor</td>\n",
       "      <td>yes</td>\n",
       "      <td>male</td>\n",
       "      <td>0.92</td>\n",
       "      <td>1st</td>\n",
       "    </tr>\n",
       "    <tr>\n",
       "      <th>2</th>\n",
       "      <td>Allison, Miss. Helen Loraine</td>\n",
       "      <td>no</td>\n",
       "      <td>female</td>\n",
       "      <td>2.00</td>\n",
       "      <td>1st</td>\n",
       "    </tr>\n",
       "    <tr>\n",
       "      <th>3</th>\n",
       "      <td>Allison, Mr. Hudson Joshua Crei</td>\n",
       "      <td>no</td>\n",
       "      <td>male</td>\n",
       "      <td>30.00</td>\n",
       "      <td>1st</td>\n",
       "    </tr>\n",
       "    <tr>\n",
       "      <th>4</th>\n",
       "      <td>Allison, Mrs. Hudson J C (Bessi</td>\n",
       "      <td>no</td>\n",
       "      <td>female</td>\n",
       "      <td>25.00</td>\n",
       "      <td>1st</td>\n",
       "    </tr>\n",
       "  </tbody>\n",
       "</table>\n",
       "</div>"
      ],
      "text/plain": [
       "                        Unnamed: 0 survived     sex    age passengerClass\n",
       "0    Allen, Miss. Elisabeth Walton      yes  female  29.00            1st\n",
       "1   Allison, Master. Hudson Trevor      yes    male   0.92            1st\n",
       "2     Allison, Miss. Helen Loraine       no  female   2.00            1st\n",
       "3  Allison, Mr. Hudson Joshua Crei       no    male  30.00            1st\n",
       "4  Allison, Mrs. Hudson J C (Bessi       no  female  25.00            1st"
      ]
     },
     "execution_count": 3,
     "metadata": {},
     "output_type": "execute_result"
    }
   ],
   "source": [
    "df.head(5)"
   ]
  },
  {
   "cell_type": "code",
   "execution_count": 4,
   "id": "0a553ff0",
   "metadata": {},
   "outputs": [
    {
     "data": {
      "text/plain": [
       "(1309, 5)"
      ]
     },
     "execution_count": 4,
     "metadata": {},
     "output_type": "execute_result"
    }
   ],
   "source": [
    "df.shape"
   ]
  },
  {
   "cell_type": "code",
   "execution_count": 5,
   "id": "7205f272",
   "metadata": {},
   "outputs": [],
   "source": [
    "df = df.rename(columns={'Unnamed: 0': 'name', 'passengerClass': 'class'})"
   ]
  },
  {
   "cell_type": "code",
   "execution_count": 6,
   "id": "cc522ade",
   "metadata": {},
   "outputs": [
    {
     "data": {
      "text/html": [
       "<div>\n",
       "<style scoped>\n",
       "    .dataframe tbody tr th:only-of-type {\n",
       "        vertical-align: middle;\n",
       "    }\n",
       "\n",
       "    .dataframe tbody tr th {\n",
       "        vertical-align: top;\n",
       "    }\n",
       "\n",
       "    .dataframe thead th {\n",
       "        text-align: right;\n",
       "    }\n",
       "</style>\n",
       "<table border=\"1\" class=\"dataframe\">\n",
       "  <thead>\n",
       "    <tr style=\"text-align: right;\">\n",
       "      <th></th>\n",
       "      <th>name</th>\n",
       "      <th>survived</th>\n",
       "      <th>sex</th>\n",
       "      <th>age</th>\n",
       "      <th>class</th>\n",
       "    </tr>\n",
       "  </thead>\n",
       "  <tbody>\n",
       "    <tr>\n",
       "      <th>0</th>\n",
       "      <td>Allen, Miss. Elisabeth Walton</td>\n",
       "      <td>yes</td>\n",
       "      <td>female</td>\n",
       "      <td>29.00</td>\n",
       "      <td>1st</td>\n",
       "    </tr>\n",
       "    <tr>\n",
       "      <th>1</th>\n",
       "      <td>Allison, Master. Hudson Trevor</td>\n",
       "      <td>yes</td>\n",
       "      <td>male</td>\n",
       "      <td>0.92</td>\n",
       "      <td>1st</td>\n",
       "    </tr>\n",
       "    <tr>\n",
       "      <th>2</th>\n",
       "      <td>Allison, Miss. Helen Loraine</td>\n",
       "      <td>no</td>\n",
       "      <td>female</td>\n",
       "      <td>2.00</td>\n",
       "      <td>1st</td>\n",
       "    </tr>\n",
       "    <tr>\n",
       "      <th>3</th>\n",
       "      <td>Allison, Mr. Hudson Joshua Crei</td>\n",
       "      <td>no</td>\n",
       "      <td>male</td>\n",
       "      <td>30.00</td>\n",
       "      <td>1st</td>\n",
       "    </tr>\n",
       "    <tr>\n",
       "      <th>4</th>\n",
       "      <td>Allison, Mrs. Hudson J C (Bessi</td>\n",
       "      <td>no</td>\n",
       "      <td>female</td>\n",
       "      <td>25.00</td>\n",
       "      <td>1st</td>\n",
       "    </tr>\n",
       "  </tbody>\n",
       "</table>\n",
       "</div>"
      ],
      "text/plain": [
       "                              name survived     sex    age class\n",
       "0    Allen, Miss. Elisabeth Walton      yes  female  29.00   1st\n",
       "1   Allison, Master. Hudson Trevor      yes    male   0.92   1st\n",
       "2     Allison, Miss. Helen Loraine       no  female   2.00   1st\n",
       "3  Allison, Mr. Hudson Joshua Crei       no    male  30.00   1st\n",
       "4  Allison, Mrs. Hudson J C (Bessi       no  female  25.00   1st"
      ]
     },
     "execution_count": 6,
     "metadata": {},
     "output_type": "execute_result"
    }
   ],
   "source": [
    "df.head()"
   ]
  },
  {
   "cell_type": "code",
   "execution_count": 7,
   "id": "ce2b8137",
   "metadata": {},
   "outputs": [
    {
     "name": "stdout",
     "output_type": "stream",
     "text": [
      "The youngest passenger was: 0.166700006 years old\n",
      "The oldest passenger was: 80.0 years old\n",
      "The mean age of passengers was: 29.881134512434034\n"
     ]
    }
   ],
   "source": [
    "print(f'The youngest passenger was: {df[\"age\"].min()} years old')\n",
    "print(f'The oldest passenger was: {df[\"age\"].max()} years old')\n",
    "print(f'The mean age of passengers was: {df[\"age\"].mean()}')"
   ]
  },
  {
   "cell_type": "markdown",
   "id": "316d4ded",
   "metadata": {},
   "source": [
    "Lets look at the statistics of the passengers who survived"
   ]
  },
  {
   "cell_type": "code",
   "execution_count": 8,
   "id": "cef57ced",
   "metadata": {},
   "outputs": [
    {
     "data": {
      "text/html": [
       "<div>\n",
       "<style scoped>\n",
       "    .dataframe tbody tr th:only-of-type {\n",
       "        vertical-align: middle;\n",
       "    }\n",
       "\n",
       "    .dataframe tbody tr th {\n",
       "        vertical-align: top;\n",
       "    }\n",
       "\n",
       "    .dataframe thead th {\n",
       "        text-align: right;\n",
       "    }\n",
       "</style>\n",
       "<table border=\"1\" class=\"dataframe\">\n",
       "  <thead>\n",
       "    <tr style=\"text-align: right;\">\n",
       "      <th></th>\n",
       "      <th>age</th>\n",
       "    </tr>\n",
       "  </thead>\n",
       "  <tbody>\n",
       "    <tr>\n",
       "      <th>count</th>\n",
       "      <td>427.00</td>\n",
       "    </tr>\n",
       "    <tr>\n",
       "      <th>mean</th>\n",
       "      <td>28.92</td>\n",
       "    </tr>\n",
       "    <tr>\n",
       "      <th>std</th>\n",
       "      <td>15.06</td>\n",
       "    </tr>\n",
       "    <tr>\n",
       "      <th>min</th>\n",
       "      <td>0.17</td>\n",
       "    </tr>\n",
       "    <tr>\n",
       "      <th>25%</th>\n",
       "      <td>20.00</td>\n",
       "    </tr>\n",
       "    <tr>\n",
       "      <th>50%</th>\n",
       "      <td>28.00</td>\n",
       "    </tr>\n",
       "    <tr>\n",
       "      <th>75%</th>\n",
       "      <td>38.00</td>\n",
       "    </tr>\n",
       "    <tr>\n",
       "      <th>max</th>\n",
       "      <td>80.00</td>\n",
       "    </tr>\n",
       "  </tbody>\n",
       "</table>\n",
       "</div>"
      ],
      "text/plain": [
       "          age\n",
       "count  427.00\n",
       "mean    28.92\n",
       "std     15.06\n",
       "min      0.17\n",
       "25%     20.00\n",
       "50%     28.00\n",
       "75%     38.00\n",
       "max     80.00"
      ]
     },
     "execution_count": 8,
     "metadata": {},
     "output_type": "execute_result"
    }
   ],
   "source": [
    "df[df['survived'] == 'yes'].describe()"
   ]
  },
  {
   "cell_type": "code",
   "execution_count": 9,
   "id": "ba042def",
   "metadata": {},
   "outputs": [],
   "source": [
    "first_class_females = df[(df['class'] == '1st') & (df['sex'] == 'female')]"
   ]
  },
  {
   "cell_type": "code",
   "execution_count": 10,
   "id": "ddedc509",
   "metadata": {},
   "outputs": [
    {
     "name": "stdout",
     "output_type": "stream",
     "text": [
      "The youngest passenger was: 2.0 years old\n",
      "The oldest passenger was: 76.0 years old\n",
      "Number of survived: 139\n"
     ]
    }
   ],
   "source": [
    "print(f'The youngest passenger was: {first_class_females[\"age\"].min()} years old')\n",
    "print(f'The oldest passenger was: {first_class_females[\"age\"].max()} years old')\n",
    "print(f'Number of survived: {first_class_females[first_class_females[\"survived\"] == \"yes\"][\"name\"].count()}')"
   ]
  },
  {
   "cell_type": "markdown",
   "id": "187a6f39",
   "metadata": {},
   "source": [
    "Sorting females from the first class by their age"
   ]
  },
  {
   "cell_type": "code",
   "execution_count": 12,
   "id": "1764e7d2",
   "metadata": {},
   "outputs": [
    {
     "data": {
      "text/html": [
       "<div>\n",
       "<style scoped>\n",
       "    .dataframe tbody tr th:only-of-type {\n",
       "        vertical-align: middle;\n",
       "    }\n",
       "\n",
       "    .dataframe tbody tr th {\n",
       "        vertical-align: top;\n",
       "    }\n",
       "\n",
       "    .dataframe thead th {\n",
       "        text-align: right;\n",
       "    }\n",
       "</style>\n",
       "<table border=\"1\" class=\"dataframe\">\n",
       "  <thead>\n",
       "    <tr style=\"text-align: right;\">\n",
       "      <th></th>\n",
       "      <th>name</th>\n",
       "      <th>survived</th>\n",
       "      <th>sex</th>\n",
       "      <th>age</th>\n",
       "      <th>class</th>\n",
       "    </tr>\n",
       "  </thead>\n",
       "  <tbody>\n",
       "    <tr>\n",
       "      <th>2</th>\n",
       "      <td>Allison, Miss. Helen Loraine</td>\n",
       "      <td>no</td>\n",
       "      <td>female</td>\n",
       "      <td>2.0</td>\n",
       "      <td>1st</td>\n",
       "    </tr>\n",
       "    <tr>\n",
       "      <th>55</th>\n",
       "      <td>Carter, Miss. Lucile Polk</td>\n",
       "      <td>yes</td>\n",
       "      <td>female</td>\n",
       "      <td>14.0</td>\n",
       "      <td>1st</td>\n",
       "    </tr>\n",
       "    <tr>\n",
       "      <th>193</th>\n",
       "      <td>Madill, Miss. Georgette Alexand</td>\n",
       "      <td>yes</td>\n",
       "      <td>female</td>\n",
       "      <td>15.0</td>\n",
       "      <td>1st</td>\n",
       "    </tr>\n",
       "    <tr>\n",
       "      <th>195</th>\n",
       "      <td>Maioni, Miss. Roberta</td>\n",
       "      <td>yes</td>\n",
       "      <td>female</td>\n",
       "      <td>16.0</td>\n",
       "      <td>1st</td>\n",
       "    </tr>\n",
       "    <tr>\n",
       "      <th>159</th>\n",
       "      <td>Hippach, Miss. Jean Gertrude</td>\n",
       "      <td>yes</td>\n",
       "      <td>female</td>\n",
       "      <td>16.0</td>\n",
       "      <td>1st</td>\n",
       "    </tr>\n",
       "    <tr>\n",
       "      <th>...</th>\n",
       "      <td>...</td>\n",
       "      <td>...</td>\n",
       "      <td>...</td>\n",
       "      <td>...</td>\n",
       "      <td>...</td>\n",
       "    </tr>\n",
       "    <tr>\n",
       "      <th>176</th>\n",
       "      <td>Kenyon, Mrs. Frederick R (Mario</td>\n",
       "      <td>yes</td>\n",
       "      <td>female</td>\n",
       "      <td>NaN</td>\n",
       "      <td>1st</td>\n",
       "    </tr>\n",
       "    <tr>\n",
       "      <th>204</th>\n",
       "      <td>Meyer, Mrs. Edgar Joseph (Leila</td>\n",
       "      <td>yes</td>\n",
       "      <td>female</td>\n",
       "      <td>NaN</td>\n",
       "      <td>1st</td>\n",
       "    </tr>\n",
       "    <tr>\n",
       "      <th>277</th>\n",
       "      <td>Spencer, Mrs. William Augustus</td>\n",
       "      <td>yes</td>\n",
       "      <td>female</td>\n",
       "      <td>NaN</td>\n",
       "      <td>1st</td>\n",
       "    </tr>\n",
       "    <tr>\n",
       "      <th>293</th>\n",
       "      <td>Taylor, Mrs. Elmer Zebley (Juli</td>\n",
       "      <td>yes</td>\n",
       "      <td>female</td>\n",
       "      <td>NaN</td>\n",
       "      <td>1st</td>\n",
       "    </tr>\n",
       "    <tr>\n",
       "      <th>297</th>\n",
       "      <td>Thorne, Mrs. Gertrude Maybelle</td>\n",
       "      <td>yes</td>\n",
       "      <td>female</td>\n",
       "      <td>NaN</td>\n",
       "      <td>1st</td>\n",
       "    </tr>\n",
       "  </tbody>\n",
       "</table>\n",
       "<p>144 rows × 5 columns</p>\n",
       "</div>"
      ],
      "text/plain": [
       "                                name survived     sex   age class\n",
       "2       Allison, Miss. Helen Loraine       no  female   2.0   1st\n",
       "55         Carter, Miss. Lucile Polk      yes  female  14.0   1st\n",
       "193  Madill, Miss. Georgette Alexand      yes  female  15.0   1st\n",
       "195            Maioni, Miss. Roberta      yes  female  16.0   1st\n",
       "159     Hippach, Miss. Jean Gertrude      yes  female  16.0   1st\n",
       "..                               ...      ...     ...   ...   ...\n",
       "176  Kenyon, Mrs. Frederick R (Mario      yes  female   NaN   1st\n",
       "204  Meyer, Mrs. Edgar Joseph (Leila      yes  female   NaN   1st\n",
       "277   Spencer, Mrs. William Augustus      yes  female   NaN   1st\n",
       "293  Taylor, Mrs. Elmer Zebley (Juli      yes  female   NaN   1st\n",
       "297   Thorne, Mrs. Gertrude Maybelle      yes  female   NaN   1st\n",
       "\n",
       "[144 rows x 5 columns]"
      ]
     },
     "execution_count": 12,
     "metadata": {},
     "output_type": "execute_result"
    }
   ],
   "source": [
    "first_class_females.sort_values(by='age')"
   ]
  },
  {
   "cell_type": "markdown",
   "id": "a0ddf7d0",
   "metadata": {},
   "source": [
    "Lets build histogram of age"
   ]
  },
  {
   "cell_type": "code",
   "execution_count": 41,
   "id": "61f0c35c",
   "metadata": {},
   "outputs": [
    {
     "data": {
      "image/png": "[encoded data removed]",
      "text/plain": [
       "<Figure size 1800x1080 with 1 Axes>"
      ]
     },
     "metadata": {
      "needs_background": "light"
     },
     "output_type": "display_data"
    }
   ],
   "source": [
    "df.hist(column='age', bins=50, figsize=(25, 15), xlabelsize=25, ylabelsize=25)\n",
    "None"
   ]
  }
 ],
 "metadata": {
  "kernelspec": {
   "display_name": "Python 3",
   "language": "python",
   "name": "python3"
  },
  "language_info": {
   "codemirror_mode": {
    "name": "ipython",
    "version": 3
   },
   "file_extension": ".py",
   "mimetype": "text/x-python",
   "name": "python",
   "nbconvert_exporter": "python",
   "pygments_lexer": "ipython3",
   "version": "3.8.8"
  }
 },
 "nbformat": 4,
 "nbformat_minor": 5
}
