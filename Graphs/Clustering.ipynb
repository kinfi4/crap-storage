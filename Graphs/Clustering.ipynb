{
 "cells": [
  {
   "cell_type": "markdown",
   "metadata": {},
   "source": [
    "## Clustering\n",
    "Тут я бы хотел еще раз переписать алгоритмы кластеризации и сравнить данные с результатами встроенных функций"
   ]
  },
  {
   "cell_type": "markdown",
   "metadata": {},
   "source": [
    "Я напишу генерацию случайных графов а так же графа Ваттса–Строгаца, последний все так же будет основан на регулярном графе  \n",
    "Начнем с обычного случайного"
   ]
  },
  {
   "cell_type": "code",
   "execution_count": 2,
   "metadata": {},
   "outputs": [],
   "source": [
    "import numpy as np\n",
    "import networkx as nx\n",
    "import matplotlib.pyplot as plt\n",
    "from itertools import combinations"
   ]
  },
  {
   "cell_type": "code",
   "execution_count": 41,
   "metadata": {},
   "outputs": [],
   "source": [
    "def flip(p):\n",
    "    return np.random.random() < p\n",
    "\n",
    "def make_random_graph(size, p):\n",
    "    nodes = range(size)\n",
    "    g = nx.Graph()\n",
    "    \n",
    "    g.add_nodes_from(nodes)\n",
    "    for node1, node2 in combinations(nodes, 2):\n",
    "        if flip(p):\n",
    "            g.add_edge(node1, node2)\n",
    "            \n",
    "    return g\n",
    "\n",
    "# g = make_random_graph(12, 0.5)\n",
    "# nx.draw(g)"
   ]
  },
  {
   "cell_type": "markdown",
   "metadata": {},
   "source": [
    "Для создания графа Ваттса–Строгаца надо для начала написать алгоритм создания какого нибудь регулярного, например кольцевого"
   ]
  },
  {
   "cell_type": "code",
   "execution_count": 42,
   "metadata": {},
   "outputs": [],
   "source": [
    "def find_adjacent_nodes(nodes, degree):\n",
    "    for i, node1 in enumerate(nodes):\n",
    "        for j in range(i+1, i + degree//2 + 1):\n",
    "            yield node1, nodes[j % len(nodes)]\n",
    "\n",
    "def make_circular_graph(size, degree):\n",
    "    nodes = range(size)\n",
    "    g = nx.Graph()\n",
    "    \n",
    "    g.add_nodes_from(nodes)\n",
    "    for edge in find_adjacent_nodes(nodes, degree):\n",
    "        g.add_edge(*edge)\n",
    "    \n",
    "    return g\n",
    "\n",
    "\n",
    "# g = make_circular_graph(12, 4)\n",
    "# nx.draw_circular(g)"
   ]
  },
  {
   "cell_type": "code",
   "execution_count": 43,
   "metadata": {},
   "outputs": [],
   "source": [
    "def make_ws_graph(size, degree, p):\n",
    "    g = make_circular_graph(size, degree)\n",
    "    nodes = set(g)\n",
    "    \n",
    "    for node1, node2 in g.edges():\n",
    "        if flip(p):\n",
    "            choices = nodes - {node1} - set(g.neighbors(node1))\n",
    "            new_node2 = np.random.choice(list(choices))\n",
    "            \n",
    "            g.remove_edge(node1, node2)\n",
    "            g.add_edge(node1, new_node2)\n",
    "    \n",
    "    return g\n",
    "\n",
    "\n",
    "# ws_g = make_ws_graph(10, 4, 0.2)\n",
    "# nx.draw_circular(ws_g)"
   ]
  },
  {
   "cell_type": "markdown",
   "metadata": {},
   "source": [
    "## Clustering\n",
    "\n",
    "Ну вот теперь можно перейти к кластеризации  \n",
    "Для начала напишу свой алгоритм\n",
    "\n",
    "Предположим, у определенного узла u есть k соседей. Если все соседи связаны друг с другом, между\n",
    "ними будет (k – ​1)k/2 ребер. Доля ребер, которые действительно существуют, является локальным\n",
    "коэффициентом кластеризации u, обозначаемым $C_{u}$ .\n",
    "Если мы вычислим среднее значение C u по всем узлам, то получим «средний коэффициент класте-\n",
    "ризации в сети», обозначенный как $C^{-}$."
   ]
  },
  {
   "cell_type": "code",
   "execution_count": 34,
   "metadata": {},
   "outputs": [],
   "source": [
    "def cluster_node(g, node):\n",
    "    neighbors = list(g.neighbors(node))\n",
    "    k = len(neighbors)\n",
    "    if k < 2:\n",
    "        return np.nan\n",
    "\n",
    "    possible = (k * (k-1)) / 2\n",
    "    exist = 0\n",
    "    for node1, node2 in combinations(neighbors, 2):\n",
    "        if g.has_edge(node1, node2):\n",
    "            exist += 1\n",
    "            \n",
    "    return exist / possible\n",
    "\n",
    "def clustering_coefficient(g):\n",
    "    return np.nanmean([cluster_node(g, node) for node in g])"
   ]
  },
  {
   "cell_type": "code",
   "execution_count": 31,
   "metadata": {},
   "outputs": [],
   "source": [
    "from networkx.algorithms.approximation import average_clustering"
   ]
  },
  {
   "cell_type": "markdown",
   "metadata": {},
   "source": [
    "## Эксперимент"
   ]
  },
  {
   "cell_type": "code",
   "execution_count": 35,
   "metadata": {},
   "outputs": [],
   "source": [
    "def run_one_graph(size, degree, p):\n",
    "    g = make_ws_graph(size, degree, p)\n",
    "    \n",
    "    my_cc = clustering_coefficient(g)\n",
    "    em_cc = average_clustering(g)\n",
    "    \n",
    "    return my_cc, em_cc\n",
    "\n",
    "\n",
    "def run_experiment(ps, size=1000, degree=10, iters=20):\n",
    "    res = []\n",
    "    \n",
    "    for p in ps:\n",
    "        means = np.array([run_one_graph(size, degree, p) for _ in range(iters)]).mean(axis=0)\n",
    "        res.append(means)\n",
    "    \n",
    "    return np.array(res)   \n",
    "\n",
    "result = run_experiment(np.arange(0, 1, 0.08))"
   ]
  },
  {
   "cell_type": "code",
   "execution_count": 36,
   "metadata": {},
   "outputs": [],
   "source": [
    "my_cc, em_cc = np.transpose(result)\n",
    "\n",
    "my_cc /= my_cc[0]\n",
    "em_cc /= em_cc[0]"
   ]
  },
  {
   "cell_type": "code",
   "execution_count": 40,
   "metadata": {},
   "outputs": [
    {
     "data": {
      "image/png": "[encoded data removed]",
      "text/plain": [
       "<Figure size 432x288 with 1 Axes>"
      ]
     },
     "metadata": {
      "needs_background": "light"
     },
     "output_type": "display_data"
    }
   ],
   "source": [
    "plt.plot(np.arange(0, 1, 0.08), my_cc, 's')\n",
    "plt.plot(np.arange(0, 1, 0.08), em_cc, 's')\n",
    "\n",
    "plt.legend(['Мои данные', 'Встроенная функция'])\n",
    "plt.show()"
   ]
  },
  {
   "cell_type": "markdown",
   "metadata": {},
   "source": [
    "**Тем ни менее, это вроде как не правильно, ибо график должен выглядеть не так, и я искренне не понимаю что не так**"
   ]
  }
 ],
 "metadata": {
  "kernelspec": {
   "display_name": "Python 3",
   "language": "python",
   "name": "python3"
  },
  "language_info": {
   "codemirror_mode": {
    "name": "ipython",
    "version": 3
   },
   "file_extension": ".py",
   "mimetype": "text/x-python",
   "name": "python",
   "nbconvert_exporter": "python",
   "pygments_lexer": "ipython3",
   "version": "3.8.5"
  }
 },
 "nbformat": 4,
 "nbformat_minor": 4
}
