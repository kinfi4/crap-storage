{
 "cells": [
  {
   "cell_type": "markdown",
   "metadata": {},
   "source": [
    "Тут я напишу функцию что переводит данные из списка в словарь с ключем  \n",
    "в виде вероятности и значением в виде значения данных"
   ]
  },
  {
   "cell_type": "code",
   "execution_count": 23,
   "metadata": {},
   "outputs": [],
   "source": [
    "import numpy as np\n",
    "from collections import Counter"
   ]
  },
  {
   "cell_type": "code",
   "execution_count": 4,
   "metadata": {},
   "outputs": [],
   "source": [
    "def pmf_data(data):\n",
    "    result = {}\n",
    "    counted_data = Counter(data)\n",
    "    \n",
    "    unique = len(data)\n",
    "    for frec, value in counted_data.items():\n",
    "        yield round(frec/unique, 4), value"
   ]
  },
  {
   "cell_type": "code",
   "execution_count": 51,
   "metadata": {},
   "outputs": [],
   "source": [
    "def prob_mass_func(data):\n",
    "    res = list(pmf_data(data))\n",
    "    res = sorted(res, key=lambda x: x[1])\n",
    "    \n",
    "    return [d[0] for d in res], [d[1] for d in res]   "
   ]
  }
 ],
 "metadata": {
  "kernelspec": {
   "display_name": "Python 3",
   "language": "python",
   "name": "python3"
  },
  "language_info": {
   "codemirror_mode": {
    "name": "ipython",
    "version": 3
   },
   "file_extension": ".py",
   "mimetype": "text/x-python",
   "name": "python",
   "nbconvert_exporter": "python",
   "pygments_lexer": "ipython3",
   "version": "3.8.5"
  }
 },
 "nbformat": 4,
 "nbformat_minor": 4
}
